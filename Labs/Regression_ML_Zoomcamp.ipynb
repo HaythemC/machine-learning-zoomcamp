{
 "cells": [
  {
   "cell_type": "code",
   "execution_count": 1,
   "id": "0a37ef96-2658-4ff5-9014-084fdd870f88",
   "metadata": {},
   "outputs": [],
   "source": [
    "import pandas as pd\n",
    "import numpy as np\n",
    "\n",
    "import seaborn as sns\n",
    "from matplotlib import pyplot as plt"
   ]
  },
  {
   "cell_type": "markdown",
   "id": "7bad90ad-82db-4346-a513-1368aecba821",
   "metadata": {},
   "source": [
    "### Exploratory data analysis"
   ]
  },
  {
   "cell_type": "code",
   "execution_count": 2,
   "id": "d0ac951a-9e9c-4d8d-8ed3-a03f9457e348",
   "metadata": {},
   "outputs": [],
   "source": [
    "df = pd.read_csv('data.csv') #!wget $data\n",
    "# Collect data"
   ]
  },
  {
   "cell_type": "code",
   "execution_count": 3,
   "id": "c6b49c28-1a10-4c17-be07-1a6502e9e972",
   "metadata": {},
   "outputs": [
    {
     "data": {
      "text/html": [
       "<div>\n",
       "<style scoped>\n",
       "    .dataframe tbody tr th:only-of-type {\n",
       "        vertical-align: middle;\n",
       "    }\n",
       "\n",
       "    .dataframe tbody tr th {\n",
       "        vertical-align: top;\n",
       "    }\n",
       "\n",
       "    .dataframe thead th {\n",
       "        text-align: right;\n",
       "    }\n",
       "</style>\n",
       "<table border=\"1\" class=\"dataframe\">\n",
       "  <thead>\n",
       "    <tr style=\"text-align: right;\">\n",
       "      <th></th>\n",
       "      <th>Make</th>\n",
       "      <th>Model</th>\n",
       "      <th>Year</th>\n",
       "      <th>Engine Fuel Type</th>\n",
       "      <th>Engine HP</th>\n",
       "      <th>Engine Cylinders</th>\n",
       "      <th>Transmission Type</th>\n",
       "      <th>Driven_Wheels</th>\n",
       "      <th>Number of Doors</th>\n",
       "      <th>Market Category</th>\n",
       "      <th>Vehicle Size</th>\n",
       "      <th>Vehicle Style</th>\n",
       "      <th>highway MPG</th>\n",
       "      <th>city mpg</th>\n",
       "      <th>Popularity</th>\n",
       "      <th>MSRP</th>\n",
       "    </tr>\n",
       "  </thead>\n",
       "  <tbody>\n",
       "    <tr>\n",
       "      <th>0</th>\n",
       "      <td>BMW</td>\n",
       "      <td>1 Series M</td>\n",
       "      <td>2011</td>\n",
       "      <td>premium unleaded (required)</td>\n",
       "      <td>335.0</td>\n",
       "      <td>6.0</td>\n",
       "      <td>MANUAL</td>\n",
       "      <td>rear wheel drive</td>\n",
       "      <td>2.0</td>\n",
       "      <td>Factory Tuner,Luxury,High-Performance</td>\n",
       "      <td>Compact</td>\n",
       "      <td>Coupe</td>\n",
       "      <td>26</td>\n",
       "      <td>19</td>\n",
       "      <td>3916</td>\n",
       "      <td>46135</td>\n",
       "    </tr>\n",
       "    <tr>\n",
       "      <th>1</th>\n",
       "      <td>BMW</td>\n",
       "      <td>1 Series</td>\n",
       "      <td>2011</td>\n",
       "      <td>premium unleaded (required)</td>\n",
       "      <td>300.0</td>\n",
       "      <td>6.0</td>\n",
       "      <td>MANUAL</td>\n",
       "      <td>rear wheel drive</td>\n",
       "      <td>2.0</td>\n",
       "      <td>Luxury,Performance</td>\n",
       "      <td>Compact</td>\n",
       "      <td>Convertible</td>\n",
       "      <td>28</td>\n",
       "      <td>19</td>\n",
       "      <td>3916</td>\n",
       "      <td>40650</td>\n",
       "    </tr>\n",
       "    <tr>\n",
       "      <th>2</th>\n",
       "      <td>BMW</td>\n",
       "      <td>1 Series</td>\n",
       "      <td>2011</td>\n",
       "      <td>premium unleaded (required)</td>\n",
       "      <td>300.0</td>\n",
       "      <td>6.0</td>\n",
       "      <td>MANUAL</td>\n",
       "      <td>rear wheel drive</td>\n",
       "      <td>2.0</td>\n",
       "      <td>Luxury,High-Performance</td>\n",
       "      <td>Compact</td>\n",
       "      <td>Coupe</td>\n",
       "      <td>28</td>\n",
       "      <td>20</td>\n",
       "      <td>3916</td>\n",
       "      <td>36350</td>\n",
       "    </tr>\n",
       "  </tbody>\n",
       "</table>\n",
       "</div>"
      ],
      "text/plain": [
       "  Make       Model  Year             Engine Fuel Type  Engine HP  \\\n",
       "0  BMW  1 Series M  2011  premium unleaded (required)      335.0   \n",
       "1  BMW    1 Series  2011  premium unleaded (required)      300.0   \n",
       "2  BMW    1 Series  2011  premium unleaded (required)      300.0   \n",
       "\n",
       "   Engine Cylinders Transmission Type     Driven_Wheels  Number of Doors  \\\n",
       "0               6.0            MANUAL  rear wheel drive              2.0   \n",
       "1               6.0            MANUAL  rear wheel drive              2.0   \n",
       "2               6.0            MANUAL  rear wheel drive              2.0   \n",
       "\n",
       "                         Market Category Vehicle Size Vehicle Style  \\\n",
       "0  Factory Tuner,Luxury,High-Performance      Compact         Coupe   \n",
       "1                     Luxury,Performance      Compact   Convertible   \n",
       "2                Luxury,High-Performance      Compact         Coupe   \n",
       "\n",
       "   highway MPG  city mpg  Popularity   MSRP  \n",
       "0           26        19        3916  46135  \n",
       "1           28        19        3916  40650  \n",
       "2           28        20        3916  36350  "
      ]
     },
     "execution_count": 3,
     "metadata": {},
     "output_type": "execute_result"
    }
   ],
   "source": [
    "df.head(n=3)\n",
    "# get first 3 rows from the dataframe"
   ]
  },
  {
   "cell_type": "code",
   "execution_count": 4,
   "id": "b74b8703-8053-43da-803f-7334df2ad4f0",
   "metadata": {},
   "outputs": [
    {
     "data": {
      "text/plain": [
       "RangeIndex(start=0, stop=11914, step=1)"
      ]
     },
     "execution_count": 4,
     "metadata": {},
     "output_type": "execute_result"
    }
   ],
   "source": [
    "df.index"
   ]
  },
  {
   "cell_type": "code",
   "execution_count": 5,
   "id": "71734e88-9df9-4640-b820-1f8ab5f99c82",
   "metadata": {},
   "outputs": [
    {
     "data": {
      "text/plain": [
       "Index(['Make', 'Model', 'Year', 'Engine Fuel Type', 'Engine HP',\n",
       "       'Engine Cylinders', 'Transmission Type', 'Driven_Wheels',\n",
       "       'Number of Doors', 'Market Category', 'Vehicle Size', 'Vehicle Style',\n",
       "       'highway MPG', 'city mpg', 'Popularity', 'MSRP'],\n",
       "      dtype='object')"
      ]
     },
     "execution_count": 5,
     "metadata": {},
     "output_type": "execute_result"
    }
   ],
   "source": [
    "df.columns\n",
    "# return list of column from data \n",
    "# the returned value is of type Index ( pandas.Index ) Object - it can be converted to python list w/ list(df.columns)\n",
    "# the Index object from Pandas is used to label rows df.index and columns df.columns\n",
    "# index obj is immutable ( can not change elements in place ) \n",
    "# index obj support element-wise string/number operations ( df.columns.str.lower() ) - Vectorized Ops\n",
    "# index obj ensures consistent indexing/alignement across dataframes and series \n",
    "# index obj support intersection, union, diffeerence\n",
    "# index obj is like a new type of data structure ( int, float, string ..etc) designated for large data"
   ]
  },
  {
   "cell_type": "code",
   "execution_count": 6,
   "id": "d04a4b1f-4e4f-4cde-9b28-61dac7aa1b40",
   "metadata": {},
   "outputs": [
    {
     "data": {
      "text/plain": [
       "Make                  object\n",
       "Model                 object\n",
       "Year                   int64\n",
       "Engine Fuel Type      object\n",
       "Engine HP            float64\n",
       "Engine Cylinders     float64\n",
       "Transmission Type     object\n",
       "Driven_Wheels         object\n",
       "Number of Doors      float64\n",
       "Market Category       object\n",
       "Vehicle Size          object\n",
       "Vehicle Style         object\n",
       "highway MPG            int64\n",
       "city mpg               int64\n",
       "Popularity             int64\n",
       "MSRP                   int64\n",
       "dtype: object"
      ]
     },
     "execution_count": 6,
     "metadata": {},
     "output_type": "execute_result"
    }
   ],
   "source": [
    "df.dtypes"
   ]
  },
  {
   "cell_type": "code",
   "execution_count": 7,
   "id": "9c728527-d117-42e4-8dd9-9e7f4d165001",
   "metadata": {},
   "outputs": [
    {
     "data": {
      "text/plain": [
       "RangeIndex(start=0, stop=11914, step=1)"
      ]
     },
     "execution_count": 7,
     "metadata": {},
     "output_type": "execute_result"
    }
   ],
   "source": [
    "df.index"
   ]
  },
  {
   "cell_type": "code",
   "execution_count": 8,
   "id": "947154b5-e269-4a38-921b-e926a5f95650",
   "metadata": {},
   "outputs": [
    {
     "data": {
      "text/plain": [
       "11914"
      ]
     },
     "execution_count": 8,
     "metadata": {},
     "output_type": "execute_result"
    }
   ],
   "source": [
    "len(df)"
   ]
  },
  {
   "cell_type": "code",
   "execution_count": 9,
   "id": "90cedf4a-cf13-427c-b52d-1a2bb3a477f5",
   "metadata": {},
   "outputs": [],
   "source": [
    "df.columns = df.columns.str.lower().str.replace(' ','_')"
   ]
  },
  {
   "cell_type": "code",
   "execution_count": 10,
   "id": "ad6f114f-4663-4b90-8c54-1d60c635b2bd",
   "metadata": {},
   "outputs": [],
   "source": [
    "string_columns = list(df.dtypes[df.dtypes == 'object'].index)"
   ]
  },
  {
   "cell_type": "code",
   "execution_count": 11,
   "id": "c6ddc12c-269e-4d10-ab6a-c1bcf4dc3afb",
   "metadata": {},
   "outputs": [],
   "source": [
    "for col in string_columns:\n",
    "    df[col] = df[col].str.lower().str.replace(' ', '_')"
   ]
  },
  {
   "cell_type": "code",
   "execution_count": 12,
   "id": "7c395ceb-12c7-4bd4-a512-66d5bd57cb3d",
   "metadata": {},
   "outputs": [
    {
     "data": {
      "text/html": [
       "<div>\n",
       "<style scoped>\n",
       "    .dataframe tbody tr th:only-of-type {\n",
       "        vertical-align: middle;\n",
       "    }\n",
       "\n",
       "    .dataframe tbody tr th {\n",
       "        vertical-align: top;\n",
       "    }\n",
       "\n",
       "    .dataframe thead th {\n",
       "        text-align: right;\n",
       "    }\n",
       "</style>\n",
       "<table border=\"1\" class=\"dataframe\">\n",
       "  <thead>\n",
       "    <tr style=\"text-align: right;\">\n",
       "      <th></th>\n",
       "      <th>make</th>\n",
       "      <th>model</th>\n",
       "      <th>year</th>\n",
       "      <th>engine_fuel_type</th>\n",
       "      <th>engine_hp</th>\n",
       "      <th>engine_cylinders</th>\n",
       "      <th>transmission_type</th>\n",
       "      <th>driven_wheels</th>\n",
       "      <th>number_of_doors</th>\n",
       "      <th>market_category</th>\n",
       "      <th>vehicle_size</th>\n",
       "      <th>vehicle_style</th>\n",
       "      <th>highway_mpg</th>\n",
       "      <th>city_mpg</th>\n",
       "      <th>popularity</th>\n",
       "      <th>msrp</th>\n",
       "    </tr>\n",
       "  </thead>\n",
       "  <tbody>\n",
       "    <tr>\n",
       "      <th>0</th>\n",
       "      <td>bmw</td>\n",
       "      <td>1_series_m</td>\n",
       "      <td>2011</td>\n",
       "      <td>premium_unleaded_(required)</td>\n",
       "      <td>335.0</td>\n",
       "      <td>6.0</td>\n",
       "      <td>manual</td>\n",
       "      <td>rear_wheel_drive</td>\n",
       "      <td>2.0</td>\n",
       "      <td>factory_tuner,luxury,high-performance</td>\n",
       "      <td>compact</td>\n",
       "      <td>coupe</td>\n",
       "      <td>26</td>\n",
       "      <td>19</td>\n",
       "      <td>3916</td>\n",
       "      <td>46135</td>\n",
       "    </tr>\n",
       "    <tr>\n",
       "      <th>1</th>\n",
       "      <td>bmw</td>\n",
       "      <td>1_series</td>\n",
       "      <td>2011</td>\n",
       "      <td>premium_unleaded_(required)</td>\n",
       "      <td>300.0</td>\n",
       "      <td>6.0</td>\n",
       "      <td>manual</td>\n",
       "      <td>rear_wheel_drive</td>\n",
       "      <td>2.0</td>\n",
       "      <td>luxury,performance</td>\n",
       "      <td>compact</td>\n",
       "      <td>convertible</td>\n",
       "      <td>28</td>\n",
       "      <td>19</td>\n",
       "      <td>3916</td>\n",
       "      <td>40650</td>\n",
       "    </tr>\n",
       "  </tbody>\n",
       "</table>\n",
       "</div>"
      ],
      "text/plain": [
       "  make       model  year             engine_fuel_type  engine_hp  \\\n",
       "0  bmw  1_series_m  2011  premium_unleaded_(required)      335.0   \n",
       "1  bmw    1_series  2011  premium_unleaded_(required)      300.0   \n",
       "\n",
       "   engine_cylinders transmission_type     driven_wheels  number_of_doors  \\\n",
       "0               6.0            manual  rear_wheel_drive              2.0   \n",
       "1               6.0            manual  rear_wheel_drive              2.0   \n",
       "\n",
       "                         market_category vehicle_size vehicle_style  \\\n",
       "0  factory_tuner,luxury,high-performance      compact         coupe   \n",
       "1                     luxury,performance      compact   convertible   \n",
       "\n",
       "   highway_mpg  city_mpg  popularity   msrp  \n",
       "0           26        19        3916  46135  \n",
       "1           28        19        3916  40650  "
      ]
     },
     "execution_count": 12,
     "metadata": {},
     "output_type": "execute_result"
    }
   ],
   "source": [
    "df.head(n=2)"
   ]
  },
  {
   "cell_type": "code",
   "execution_count": 13,
   "id": "b9c88b12-84cc-4eee-a639-cb4047569a4b",
   "metadata": {},
   "outputs": [
    {
     "name": "stdout",
     "output_type": "stream",
     "text": [
      "<class 'str'>\n"
     ]
    }
   ],
   "source": [
    "print(type(df.iloc[0][\"make\"]))\n",
    "# df.iloc[0] returns the first row - type series \n",
    "# df.iloc[:, 0] return first column - type series\n",
    "# df.iloc[0][\"make\"] return the element of index/label make in the first row "
   ]
  },
  {
   "cell_type": "code",
   "execution_count": 16,
   "id": "5dfb5234-db9a-47b1-8095-a015f4d7c9fc",
   "metadata": {},
   "outputs": [
    {
     "data": {
      "image/png": "[encoded data removed]",
      "text/plain": [
       "<Figure size 600x400 with 1 Axes>"
      ]
     },
     "metadata": {},
     "output_type": "display_data"
    }
   ],
   "source": [
    "plt.figure(figsize=(6, 4)) #width 600 pixel by height 400 pixel\n",
    "\n",
    "sns.histplot(df.msrp, bins=40, color='blue', alpha=1) # histogram of msrp column in df with bins (number of bars = 40 and opacity full opaque ( 0 full transparent ) \n",
    "plt.ylabel('Frequency')\n",
    "plt.xlabel('Price')\n",
    "plt.title('Distribution of prices')\n",
    "\n",
    "plt.show()"
   ]
  },
  {
   "cell_type": "code",
   "execution_count": 18,
   "id": "058f0786-a2bc-4187-b39c-c9cadb743721",
   "metadata": {},
   "outputs": [
    {
     "data": {
      "image/png": "[encoded data removed]",
      "text/plain": [
       "<Figure size 600x400 with 1 Axes>"
      ]
     },
     "metadata": {},
     "output_type": "display_data"
    }
   ],
   "source": [
    "plt.figure(figsize=(6, 4)) #width 600 pixel by height 400 pixel\n",
    "\n",
    "sns.histplot(df.msrp[df.msrp < 100000], bins=40, color='blue', alpha=1) # in the previous graph had a long tail distribution - long tails values were excluded\n",
    "plt.xlabel('Price')\n",
    "plt.title('Distribution of prices')\n",
    "\n",
    "plt.show()"
   ]
  },
  {
   "cell_type": "code",
   "execution_count": 19,
   "id": "d4f6780c-d848-4c8f-af4b-b4ad2220e6e9",
   "metadata": {},
   "outputs": [
    {
     "data": {
      "image/png": "[encoded data removed]",
      "text/plain": [
       "<Figure size 600x400 with 1 Axes>"
      ]
     },
     "metadata": {},
     "output_type": "display_data"
    }
   ],
   "source": [
    "log_price = np.log1p(df.msrp) # applying logarithmic to price (to have less difference between small and big numbers ) \n",
    "#log1p adds a 1 before compute to avoid having log(0) which does not exists \n",
    "\n",
    "plt.figure(figsize=(6, 4)) \n",
    "\n",
    "sns.histplot(log_price, bins=40, color='blue', alpha=1) # histogram of logarithmic price\n",
    "plt.xlabel('Price')\n",
    "plt.title('Distribution of prices')\n",
    "\n",
    "plt.show()"
   ]
  },
  {
   "cell_type": "code",
   "execution_count": 23,
   "id": "32588c11-5bbc-4454-80f2-1e3fdf385d4e",
   "metadata": {},
   "outputs": [
    {
     "data": {
      "text/plain": [
       "make                    0\n",
       "model                   0\n",
       "year                    0\n",
       "engine_fuel_type        3\n",
       "engine_hp              69\n",
       "engine_cylinders       30\n",
       "transmission_type       0\n",
       "driven_wheels           0\n",
       "number_of_doors         6\n",
       "market_category      3742\n",
       "vehicle_size            0\n",
       "vehicle_style           0\n",
       "highway_mpg             0\n",
       "city_mpg                0\n",
       "popularity              0\n",
       "msrp                    0\n",
       "dtype: int64"
      ]
     },
     "execution_count": 23,
     "metadata": {},
     "output_type": "execute_result"
    }
   ],
   "source": [
    "df.isnull().sum() # isnull returns True if cell is NaaN or None"
   ]
  },
  {
   "cell_type": "markdown",
   "id": "575db0ac-ece1-454b-a533-29389a1a6053",
   "metadata": {},
   "source": [
    "### Validation Framework - Splitting Data"
   ]
  },
  {
   "cell_type": "code",
   "execution_count": 44,
   "id": "27ca343a-9fb6-4a78-9973-6536af733f50",
   "metadata": {},
   "outputs": [],
   "source": [
    "np.random.seed(2) # fix the randomness so it would be the same across different computers\n",
    "\n",
    "n = len(df) # number of rows in the dataframe \n",
    "\n",
    "n_val = int(0.2 * n) # number of rows dedicated for validation ( 20% of total rows ) \n",
    "n_test = int(0.2 * n) # number of rows dedicated for test ( 20% of total rows ) \n",
    "n_train = n - (n_val + n_test) # number of rows dedicated for training ( rest of the rows ~ 60%) \n",
    "\n",
    "idx = np.arange(n) # type numpy ndarray : array from 0 to n ( number of total rows ) \n",
    "np.random.shuffle(idx) # change position of elements inside idx ( series ) \n",
    "df_shuffled = df.iloc[idx] # change position of rows inside dataframe ( dataframe ) \n",
    "\n",
    "#splitting data into 60%, 20% and 20% portion\n",
    "df_train = df_shuffled.iloc[:n_train].copy()\n",
    "df_val = df_shuffled.iloc[n_train:n_train+n_val].copy()\n",
    "df_test = df_shuffled.iloc[n_train+n_val:].copy()"
   ]
  },
  {
   "cell_type": "code",
   "execution_count": 47,
   "id": "ef6a2e3c-e650-43e0-84f1-5a5aa9f40a0d",
   "metadata": {},
   "outputs": [],
   "source": [
    "y_train_orig =  df_train.msrp.values # save target value Y from training data\n",
    "y_val_orig = df_val.msrp.values\n",
    "y_test_orig = df_test.msrp.values\n",
    "\n",
    "y_train = np.log1p(df_train.msrp.values) # apply logarithmic to target value Y \n",
    "y_val = np.log1p(df_val.msrp.values)\n",
    "y_test = np.log1p(df_test.msrp.values)\n",
    "\n",
    "del df_train['msrp'] # delete target value column to avoid confusion\n",
    "del df_val['msrp']\n",
    "del df_test['msrp']"
   ]
  },
  {
   "cell_type": "markdown",
   "id": "eace1264-deed-4a86-bd7d-ae588235ab34",
   "metadata": {},
   "source": [
    "### Linear Regression"
   ]
  },
  {
   "cell_type": "code",
   "execution_count": 67,
   "id": "34bab247-2622-4507-b659-7117645eebc4",
   "metadata": {},
   "outputs": [],
   "source": [
    "# We are trying to solve W.X=Y where W is weight vector : \n",
    "# W is w0 + w1.x1 + w2.x2 ... + wn.xn\n",
    "\n",
    "def train_linear_regression(X, y): \n",
    "    ones = np.ones(X.shape[0]) # X.shape returns a tupe ( num rows , num of columns ) X.shape[0] returns num of rowsand then creates array of ones of that size\n",
    "    X = np.column_stack([ones, X]) # column_stack expect a list of arrays. ones will be stacked as first column\n",
    "\n",
    "    XTX = X.T.dot(X) # computer X Transpose multiplied by X ( Gram Matrix ) \n",
    "    XTX_inv = np.linalg.inv(XTX) # Get inverse of gram Matrix\n",
    "    w = XTX_inv.dot(X.T).dot(y) # return vector w that contains bias term w0 and rest of the weigts\n",
    "    \n",
    "    return w[0], w[1:]"
   ]
  },
  {
   "cell_type": "markdown",
   "id": "df17ba5d-7523-45ea-b892-84839998e773",
   "metadata": {},
   "source": [
    "### Baseline solution"
   ]
  },
  {
   "cell_type": "code",
   "execution_count": 69,
   "id": "0ea4596c-4895-4774-bd3c-717167e282b8",
   "metadata": {},
   "outputs": [],
   "source": [
    "# list of feature (column names ) that we will use\n",
    "base = ['engine_hp', 'engine_cylinders', 'highway_mpg', 'city_mpg', 'popularity'] "
   ]
  },
  {
   "cell_type": "code",
   "execution_count": 68,
   "id": "e6092345-6c04-45ea-ae5e-53b4bde5047d",
   "metadata": {},
   "outputs": [],
   "source": [
    "def prepare_X(df):\n",
    "    df_num = df[base] # return df with only selected column names\n",
    "    df_num = df_num.fillna(0) # we have missing values in engine_hp and engine_cylinders so we replaced missing values with 0\n",
    "    X = df_num.values # return the data without row index and column index\n",
    "    return X "
   ]
  },
  {
   "cell_type": "code",
   "execution_count": 71,
   "id": "95755ec7-6d1e-46aa-9b99-13c002315f9c",
   "metadata": {},
   "outputs": [],
   "source": [
    "X_train = prepare_X(df_train) # prepared X_train by selecting what features we need and getting rid of missing values"
   ]
  },
  {
   "cell_type": "code",
   "execution_count": 72,
   "id": "f78cba93-a08f-4cf4-bf33-e1b09ed03bc1",
   "metadata": {},
   "outputs": [],
   "source": [
    "w_0, w = train_linear_regression(X_train, y_train) # getting weight vector"
   ]
  },
  {
   "cell_type": "code",
   "execution_count": 75,
   "id": "68aae4e8-49ee-4616-a705-d3b4f22f94ff",
   "metadata": {},
   "outputs": [],
   "source": [
    "y_pred = w_0 + X_train.dot(w) # now we obtain a vector of Y prediction of size number of rows of of Training data"
   ]
  },
  {
   "cell_type": "code",
   "execution_count": 84,
   "id": "98263318-0e28-4c64-a303-88022c67712e",
   "metadata": {},
   "outputs": [
    {
     "data": {
      "image/png": "[encoded data removed]",
      "text/plain": [
       "<Figure size 600x400 with 1 Axes>"
      ]
     },
     "metadata": {},
     "output_type": "display_data"
    }
   ],
   "source": [
    "# displaying prediction vs target \n",
    "plt.figure(figsize=(6, 4))\n",
    "\n",
    "sns.histplot(y_train, label='target', color='blue', alpha=0.6, bins=40)\n",
    "sns.histplot(y_pred, label='prediction', color='red', alpha=0.3, bins=40)\n",
    "\n",
    "plt.legend()\n",
    "\n",
    "plt.ylabel('Frequency')\n",
    "plt.xlabel('Log(Price + 1)')\n",
    "plt.title('Predictions vs actual distribution')\n",
    "\n",
    "plt.show()"
   ]
  },
  {
   "cell_type": "code",
   "execution_count": 94,
   "id": "eadb4d52-709d-4f8f-8816-1857405b29ae",
   "metadata": {},
   "outputs": [],
   "source": [
    "# calculate Root Mean Square Error : the difference between Y prediction and Y target\n",
    "def rmse(y, y_pred):\n",
    "    error = y_pred - y # arithmetic operation between 2 vectors ( type ndarray ) \n",
    "    mse = (error ** 2).mean() \n",
    "    return float(np.sqrt(mse))"
   ]
  },
  {
   "cell_type": "code",
   "execution_count": 96,
   "id": "867c995a-78b1-4fe2-b35e-6fdaacd22d66",
   "metadata": {},
   "outputs": [
    {
     "data": {
      "text/plain": [
       "0.7554192603920132"
      ]
     },
     "execution_count": 96,
     "metadata": {},
     "output_type": "execute_result"
    }
   ],
   "source": [
    "rmse(y_train, y_pred) # this is how far is our target from prediction - the lower it is the better. be careful of overfit. "
   ]
  },
  {
   "cell_type": "markdown",
   "id": "16c13a64-2017-49ed-b5e5-de024251e1db",
   "metadata": {},
   "source": [
    "### Simple Feature Engineering"
   ]
  },
  {
   "cell_type": "code",
   "execution_count": 101,
   "id": "f80258b1-aa20-434e-ba12-6bcafe13b429",
   "metadata": {},
   "outputs": [],
   "source": [
    "def prepare_X(df):\n",
    "    df = df.copy() # copy the dataframe\n",
    "    features = base.copy() #copy the array containing the column names\n",
    "\n",
    "    df['age'] = 2017 - df.year # 2017 was identified as the most recent record. create new column age containing the age of the car\n",
    "    features.append('age') # add feature to the list of features\n",
    "\n",
    "    df_num = df[features] # returns dataframe with selected columns ( including new feature ) \n",
    "    df_num = df_num.fillna(0) # fill missing NaaN/None value with 0 \n",
    "    X = df_num.values # return value of row and columns with label \n",
    "    return X"
   ]
  },
  {
   "cell_type": "code",
   "execution_count": 103,
   "id": "e6569c92-9353-4a25-9d3a-69d4894364e3",
   "metadata": {},
   "outputs": [
    {
     "name": "stdout",
     "output_type": "stream",
     "text": [
      "train 0.5175055465840046\n",
      "validation 0.5172055461058291\n"
     ]
    }
   ],
   "source": [
    "X_train = prepare_X(df_train) # using new list of feature\n",
    "w_0, w = train_linear_regression(X_train, y_train)\n",
    "\n",
    "y_pred = w_0 + X_train.dot(w)\n",
    "print('train', rmse(y_train, y_pred)) #y_pred dropped from 0.75 to 0.51 by including this new feature age\n",
    "\n",
    "X_val = prepare_X(df_val)\n",
    "y_pred = w_0 + X_val.dot(w)\n",
    "print('validation', rmse(y_val, y_pred)) "
   ]
  },
  {
   "cell_type": "code",
   "execution_count": 104,
   "id": "86862dc0-7266-412d-bd36-17b5b441a0e2",
   "metadata": {},
   "outputs": [
    {
     "data": {
      "image/png": "[encoded data removed]",
      "text/plain": [
       "<Figure size 600x400 with 1 Axes>"
      ]
     },
     "metadata": {},
     "output_type": "display_data"
    }
   ],
   "source": [
    "plt.figure(figsize=(6, 4))\n",
    "\n",
    "\n",
    "sns.histplot(y_val, label='target', color='blue', alpha=0.6, bins=40)\n",
    "sns.histplot(y_pred, label='prediction', color='red', alpha=0.3, bins=40)\n",
    "\n",
    "plt.legend()\n",
    "\n",
    "plt.ylabel('Frequency')\n",
    "plt.xlabel('Log(Price + 1)')\n",
    "plt.title('Predictions vs actual distribution')\n",
    "\n",
    "plt.show()"
   ]
  },
  {
   "cell_type": "code",
   "execution_count": 105,
   "id": "3f5f038b-7815-41e3-a4b8-3bbbe02e490f",
   "metadata": {},
   "outputs": [
    {
     "data": {
      "text/plain": [
       "make\n",
       "chevrolet     1123\n",
       "ford           881\n",
       "volkswagen     809\n",
       "toyota         746\n",
       "dodge          626\n",
       "Name: count, dtype: int64"
      ]
     },
     "execution_count": 105,
     "metadata": {},
     "output_type": "execute_result"
    }
   ],
   "source": [
    "df['make'].value_counts().head(5) # count occurence of each unique value in column make - show only top 5\n"
   ]
  },
  {
   "cell_type": "code",
   "execution_count": 106,
   "id": "c458deb5-88ee-4d16-ad86-dd2deeac622a",
   "metadata": {},
   "outputs": [],
   "source": [
    "# we are changing prepare_X that was previously defined to add feature age \n",
    "def prepare_X(df):\n",
    "    df = df.copy()\n",
    "    features = base.copy()\n",
    "\n",
    "    df['age'] = 2017 - df.year\n",
    "    features.append('age')\n",
    "\n",
    "    for v in [2, 3, 4]:\n",
    "        feature = 'num_doors_%s' % v # we are creating new feature with column name num_doors_2, num_doors_3, num_doors_4\n",
    "        df[feature] = (df['number_of_doors'] == v).astype(int) #will create new column num_doors_2 and fill with 1 if true 0 if not. iterate over v\n",
    "        features.append(feature) # add feature name num_doors_2\n",
    "\n",
    "    #same as above _ we create new feature is_make_chevrolet that will be a column containing 1 if true and 0 if false\n",
    "    for v in ['chevrolet', 'ford', 'volkswagen', 'toyota', 'dodge']:\n",
    "        feature = 'is_make_%s' % v\n",
    "        df[feature] = (df['make'] == v).astype(int)\n",
    "        features.append(feature)\n",
    "\n",
    "    df_num = df[features]\n",
    "    df_num = df_num.fillna(0)\n",
    "    X = df_num.values\n",
    "    return X"
   ]
  },
  {
   "cell_type": "code",
   "execution_count": 114,
   "id": "bb7bdb61-7523-4a56-bdb7-18411dfa1bc9",
   "metadata": {},
   "outputs": [
    {
     "name": "stdout",
     "output_type": "stream",
     "text": [
      "train: 0.5058876515487503\n",
      "validation: 0.5076038849556025\n"
     ]
    }
   ],
   "source": [
    "X_train = prepare_X(df_train)\n",
    "w_0, w = train_linear_regression(X_train, y_train)\n",
    "\n",
    "y_pred = w_0 + X_train.dot(w) # slight improvement from 0.51 to 0.50 \n",
    "print('train:', rmse(y_train, y_pred))\n",
    "\n",
    "X_val = prepare_X(df_val)\n",
    "y_pred = w_0 + X_val.dot(w)\n",
    "print('validation:', rmse(y_val, y_pred))"
   ]
  },
  {
   "cell_type": "code",
   "execution_count": 115,
   "id": "75b9647a-04af-424a-97d8-f90d3f1d3d0b",
   "metadata": {},
   "outputs": [
    {
     "data": {
      "text/plain": [
       "engine_fuel_type\n",
       "regular_unleaded                                7172\n",
       "premium_unleaded_(required)                     2009\n",
       "premium_unleaded_(recommended)                  1523\n",
       "flex-fuel_(unleaded/e85)                         899\n",
       "diesel                                           154\n",
       "electric                                          66\n",
       "flex-fuel_(premium_unleaded_required/e85)         54\n",
       "flex-fuel_(premium_unleaded_recommended/e85)      26\n",
       "flex-fuel_(unleaded/natural_gas)                   6\n",
       "natural_gas                                        2\n",
       "Name: count, dtype: int64"
      ]
     },
     "execution_count": 115,
     "metadata": {},
     "output_type": "execute_result"
    }
   ],
   "source": [
    "df['engine_fuel_type'].value_counts() # count unique values in engine_fuel_type"
   ]
  },
  {
   "cell_type": "code",
   "execution_count": 116,
   "id": "0fe0231e-8357-41d9-88b3-bea2aa2a241e",
   "metadata": {},
   "outputs": [],
   "source": [
    "# creating new feature for engine_fuel_type\n",
    "def prepare_X(df):\n",
    "    df = df.copy()\n",
    "    features = base.copy()\n",
    "\n",
    "    df['age'] = 2017 - df.year\n",
    "    features.append('age')\n",
    "    \n",
    "    for v in [2, 3, 4]:\n",
    "        feature = 'num_doors_%s' % v\n",
    "        df[feature] = (df['number_of_doors'] == v).astype(int)\n",
    "        features.append(feature)\n",
    "\n",
    "    for v in ['chevrolet', 'ford', 'volkswagen', 'toyota', 'dodge']:\n",
    "        feature = 'is_make_%s' % v\n",
    "        df[feature] = (df['make'] == v).astype(int)\n",
    "        features.append(feature)\n",
    "    \n",
    "    #same as in previous func def - we create new feature is_type_regular_unleaded that will be a column containing 1 if true and 0 if false\n",
    "\n",
    "    for v in ['regular_unleaded', 'premium_unleaded_(required)', \n",
    "              'premium_unleaded_(recommended)', 'flex-fuel_(unleaded/e85)']:\n",
    "        feature = 'is_type_%s' % v\n",
    "        df[feature] = (df['engine_fuel_type'] == v).astype(int)\n",
    "        features.append(feature)\n",
    "        \n",
    "    df_num = df[features]\n",
    "    df_num = df_num.fillna(0)\n",
    "    X = df_num.values\n",
    "    return X"
   ]
  },
  {
   "cell_type": "code",
   "execution_count": 117,
   "id": "91c4971d-4dc8-46b4-a8c8-ab22a8def680",
   "metadata": {},
   "outputs": [
    {
     "name": "stdout",
     "output_type": "stream",
     "text": [
      "train: 0.4788482615078598\n",
      "validation: 0.4748256737224437\n"
     ]
    }
   ],
   "source": [
    "X_train = prepare_X(df_train)\n",
    "w_0, w = train_linear_regression(X_train, y_train)\n",
    "\n",
    "y_pred = w_0 + X_train.dot(w) # prediction dropped from 0.5 to 0.47\n",
    "print('train:', rmse(y_train, y_pred))\n",
    "\n",
    "X_val = prepare_X(df_val)\n",
    "y_pred = w_0 + X_val.dot(w)\n",
    "print('validation:', rmse(y_val, y_pred))"
   ]
  },
  {
   "cell_type": "code",
   "execution_count": 118,
   "id": "dd5df6b4-6ac4-425c-8755-cef083525746",
   "metadata": {},
   "outputs": [
    {
     "data": {
      "text/plain": [
       "transmission_type\n",
       "automatic           8266\n",
       "manual              2935\n",
       "automated_manual     626\n",
       "direct_drive          68\n",
       "unknown               19\n",
       "Name: count, dtype: int64"
      ]
     },
     "execution_count": 118,
     "metadata": {},
     "output_type": "execute_result"
    }
   ],
   "source": [
    "df['transmission_type'].value_counts() # show unique values in transmission_type"
   ]
  },
  {
   "cell_type": "code",
   "execution_count": 128,
   "id": "2131b87a-d9bf-4f4c-be00-7762fec932e1",
   "metadata": {},
   "outputs": [],
   "source": [
    "# creating new feature for transmission_type\n",
    "def prepare_X(df):\n",
    "    df = df.copy()\n",
    "    features = base.copy()\n",
    "\n",
    "    df['age'] = 2017 - df.year\n",
    "    features.append('age')\n",
    "    \n",
    "    for v in [2, 3, 4]:\n",
    "        feature = 'num_doors_%s' % v\n",
    "        df[feature] = (df['number_of_doors'] == v).astype(int)\n",
    "        features.append(feature)\n",
    "\n",
    "    for v in ['chevrolet', 'ford', 'volkswagen', 'toyota', 'dodge']:\n",
    "        feature = 'is_make_%s' % v\n",
    "        df[feature] = (df['make'] == v).astype(int)\n",
    "        features.append(feature)\n",
    "    \n",
    "    for v in ['regular_unleaded', 'premium_unleaded_(required)', \n",
    "              'premium_unleaded_(recommended)', 'flex-fuel_(unleaded/e85)']:\n",
    "        feature = 'is_type_%s' % v\n",
    "        df[feature] = (df['engine_fuel_type'] == v).astype(int)\n",
    "        features.append(feature)\n",
    "\n",
    "    \n",
    "    for v in ['automatic', 'manual', 'automated_manual']:\n",
    "        feature = 'is_transmission_%s' % v\n",
    "        df[feature] = (df['transmission_type'] == v).astype(int)\n",
    "        features.append(feature)\n",
    "        \n",
    "    df_num = df[features]\n",
    "    df_num = df_num.fillna(0)\n",
    "    X = df_num.values\n",
    "    return X"
   ]
  },
  {
   "cell_type": "code",
   "execution_count": 130,
   "id": "b82997f2-9bb7-4508-9806-6c25c1627573",
   "metadata": {},
   "outputs": [
    {
     "name": "stdout",
     "output_type": "stream",
     "text": [
      "train: 0.4745380510924004\n",
      "validation: 0.4685879194656906\n"
     ]
    }
   ],
   "source": [
    "X_train = prepare_X(df_train)\n",
    "w_0, w = train_linear_regression(X_train, y_train)\n",
    "\n",
    "y_pred = w_0 + X_train.dot(w) # dropped by 0.001 - no signficant change\n",
    "print('train:', rmse(y_train, y_pred))\n",
    "\n",
    "X_val = prepare_X(df_val)\n",
    "y_pred = w_0 + X_val.dot(w)\n",
    "print('validation:', rmse(y_val, y_pred))"
   ]
  },
  {
   "cell_type": "markdown",
   "id": "488cb26f-4c02-4190-92e2-3166521402f5",
   "metadata": {},
   "source": [
    "### Regularization"
   ]
  },
  {
   "cell_type": "code",
   "execution_count": 131,
   "id": "ed068730-f9d2-4e8f-a316-668950a10056",
   "metadata": {},
   "outputs": [],
   "source": [
    "# we are introducing a new arg r in our previous function\n",
    "def train_linear_regression_reg(X, y, r=0.0):\n",
    "    ones = np.ones(X.shape[0])\n",
    "    X = np.column_stack([ones, X])\n",
    "\n",
    "    XTX = X.T.dot(X)\n",
    "    reg = r * np.eye(XTX.shape[0]) \n",
    "    XTX = XTX + reg # we are adding a number in form of I matrice to the gram matrice XTX\n",
    "\n",
    "    XTX_inv = np.linalg.inv(XTX)\n",
    "    w = XTX_inv.dot(X.T).dot(y)\n",
    "    \n",
    "    return w[0], w[1:] #return new weight vector ( bias term and the rest of weights ) "
   ]
  },
  {
   "cell_type": "code",
   "execution_count": 132,
   "id": "e27536e2-41de-4611-bbf0-60b796013112",
   "metadata": {},
   "outputs": [],
   "source": [
    "X_train = prepare_X(df_train)"
   ]
  },
  {
   "cell_type": "code",
   "execution_count": 134,
   "id": "b92c0fe7-089c-4116-a947-d27582716ea7",
   "metadata": {},
   "outputs": [
    {
     "name": "stdout",
     "output_type": "stream",
     "text": [
      "    0, 11.52, -0.14, -0.13\n",
      "0.001, 11.52, -0.14, -0.13\n",
      " 0.01, 11.49, -0.14, -0.13\n",
      "  0.1, 11.22, -0.14, -0.10\n",
      "    1, 9.51, -0.13, 0.17\n",
      "   10, 6.11, -0.12, 1.12\n"
     ]
    }
   ],
   "source": [
    "# we are looping here to find the best r value \n",
    "for r in [0, 0.001, 0.01, 0.1, 1, 10]:\n",
    "    w_0, w = train_linear_regression_reg(X_train, y_train, r=r)\n",
    "    print('%5s, %.2f, %.2f, %.2f' % (r, w_0, w[13], w[20]))"
   ]
  },
  {
   "cell_type": "code",
   "execution_count": 140,
   "id": "ca1118df-9385-48c1-bbc7-a4fe06188d7b",
   "metadata": {},
   "outputs": [
    {
     "name": "stdout",
     "output_type": "stream",
     "text": [
      "train 0.4745387229618779\n",
      "val 0.46861029160219436\n"
     ]
    }
   ],
   "source": [
    "X_train = prepare_X(df_train)\n",
    "w_0, w = train_linear_regression_reg(X_train, y_train, r=0.01) # trying with r=0.001\n",
    "\n",
    "y_pred = w_0 + X_train.dot(w)\n",
    "print('train', rmse(y_train, y_pred))\n",
    "\n",
    "X_val = prepare_X(df_val)\n",
    "y_pred = w_0 + X_val.dot(w)\n",
    "print('val', rmse(y_val, y_pred))"
   ]
  },
  {
   "cell_type": "code",
   "execution_count": 141,
   "id": "6b036dd3-7e41-47bb-b727-a38693802f4e",
   "metadata": {},
   "outputs": [
    {
     "name": "stdout",
     "output_type": "stream",
     "text": [
      " 1e-06 0.468587921697589\n",
      "0.0001 0.4685881426435797\n",
      " 0.001 0.46859015174173224\n",
      "  0.01 0.46861029160219436\n",
      "   0.1 0.46881610902291404\n",
      "     1 0.4710847667626094\n",
      "     5 0.48136260653686935\n",
      "    10 0.4926865711195577\n"
     ]
    }
   ],
   "source": [
    "X_train = prepare_X(df_train)\n",
    "X_val = prepare_X(df_val)\n",
    "\n",
    "for r in [0.000001, 0.0001, 0.001, 0.01, 0.1, 1, 5, 10]:\n",
    "    w_0, w = train_linear_regression_reg(X_train, y_train, r=r)\n",
    "    y_pred = w_0 + X_val.dot(w)\n",
    "    print('%6s' %r, rmse(y_val, y_pred))"
   ]
  },
  {
   "cell_type": "markdown",
   "id": "aec743f5-7e54-45e8-8a79-5109127e9aa5",
   "metadata": {},
   "source": [
    "### Using the model"
   ]
  },
  {
   "cell_type": "code",
   "execution_count": 144,
   "id": "4ab55519-da50-4c38-a333-942f86e310a4",
   "metadata": {},
   "outputs": [
    {
     "data": {
      "text/plain": [
       "{'make': 'toyota',\n",
       " 'model': 'venza',\n",
       " 'year': 2013,\n",
       " 'engine_fuel_type': 'regular_unleaded',\n",
       " 'engine_hp': 268.0,\n",
       " 'engine_cylinders': 6.0,\n",
       " 'transmission_type': 'automatic',\n",
       " 'driven_wheels': 'all_wheel_drive',\n",
       " 'number_of_doors': 4.0,\n",
       " 'market_category': 'crossover,performance',\n",
       " 'vehicle_size': 'midsize',\n",
       " 'vehicle_style': 'wagon',\n",
       " 'highway_mpg': 25,\n",
       " 'city_mpg': 18,\n",
       " 'popularity': 2031}"
      ]
     },
     "execution_count": 144,
     "metadata": {},
     "output_type": "execute_result"
    }
   ],
   "source": [
    "# now we will use the test dataframe df_test\n",
    "i = 2\n",
    "ad = df_test.iloc[i].to_dict() # get row number 2 and convert it to dictionary ( this is how our endpoint will get the data ) \n",
    "ad"
   ]
  },
  {
   "cell_type": "code",
   "execution_count": 158,
   "id": "b44d2e73-a00c-418e-9920-9e75983ca8f5",
   "metadata": {},
   "outputs": [
    {
     "data": {
      "text/plain": [
       "np.float64(26329.5926097353)"
      ]
     },
     "execution_count": 158,
     "metadata": {},
     "output_type": "execute_result"
    }
   ],
   "source": [
    "X_test = prepare_X(pd.DataFrame([ad]))[0] # we use [0] because it is one array, if it is 2 row then it will return a list of arrays\n",
    "y_pred = w_0 + X_test.dot(w)\n",
    "suggestion = np.expm1(y_pred) # convert back because we used logarithmic on Y at the beginning\n",
    "suggestion"
   ]
  },
  {
   "cell_type": "code",
   "execution_count": 167,
   "id": "6441e822-e1ba-4a70-95e1-f16cd44f7f5f",
   "metadata": {},
   "outputs": [
    {
     "data": {
      "text/plain": [
       "np.float64(31119.999999999985)"
      ]
     },
     "execution_count": 167,
     "metadata": {},
     "output_type": "execute_result"
    }
   ],
   "source": [
    "np.expm1(y_test[2])"
   ]
  }
 ],
 "metadata": {
  "kernelspec": {
   "display_name": "Python 3 (ipykernel)",
   "language": "python",
   "name": "python3"
  },
  "language_info": {
   "codemirror_mode": {
    "name": "ipython",
    "version": 3
   },
   "file_extension": ".py",
   "mimetype": "text/x-python",
   "name": "python",
   "nbconvert_exporter": "python",
   "pygments_lexer": "ipython3",
   "version": "3.13.5"
  }
 },
 "nbformat": 4,
 "nbformat_minor": 5
}

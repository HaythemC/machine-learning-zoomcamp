{
 "cells": [
  {
   "cell_type": "code",
   "execution_count": 3,
   "id": "51b1b68e-0842-494e-a1b5-87ba2ea27aba",
   "metadata": {},
   "outputs": [],
   "source": [
    "import pandas as pd \n",
    "import numpy as np \n",
    "\n",
    "from matplotlib import pyplot as plt\n",
    "import seaborn as sns "
   ]
  },
  {
   "cell_type": "markdown",
   "id": "6282d5d8-afea-440c-b2cc-a5da3d999b90",
   "metadata": {},
   "source": [
    "### Exploratory data analys "
   ]
  },
  {
   "cell_type": "code",
   "execution_count": 4,
   "id": "1289030d-435d-489d-9979-c7c162295baa",
   "metadata": {},
   "outputs": [],
   "source": [
    "df = pd.read_csv('housing.csv')"
   ]
  },
  {
   "cell_type": "code",
   "execution_count": 5,
   "id": "a61dd7c0-f4f9-4fd6-b75d-8a1923284be0",
   "metadata": {},
   "outputs": [
    {
     "data": {
      "text/plain": [
       "Index(['longitude', 'latitude', 'housing_median_age', 'total_rooms',\n",
       "       'total_bedrooms', 'population', 'households', 'median_income',\n",
       "       'median_house_value', 'ocean_proximity'],\n",
       "      dtype='object')"
      ]
     },
     "execution_count": 5,
     "metadata": {},
     "output_type": "execute_result"
    }
   ],
   "source": [
    "df.columns"
   ]
  },
  {
   "cell_type": "code",
   "execution_count": 6,
   "id": "f220dba3-0949-402d-940e-c6cf826fa67a",
   "metadata": {},
   "outputs": [
    {
     "data": {
      "text/plain": [
       "RangeIndex(start=0, stop=20640, step=1)"
      ]
     },
     "execution_count": 6,
     "metadata": {},
     "output_type": "execute_result"
    }
   ],
   "source": [
    "df.index"
   ]
  },
  {
   "cell_type": "code",
   "execution_count": 7,
   "id": "03e8ddba-95fd-4825-9637-c485c1fc53b0",
   "metadata": {},
   "outputs": [
    {
     "data": {
      "text/plain": [
       "longitude             float64\n",
       "latitude              float64\n",
       "housing_median_age    float64\n",
       "total_rooms           float64\n",
       "total_bedrooms        float64\n",
       "population            float64\n",
       "households            float64\n",
       "median_income         float64\n",
       "median_house_value    float64\n",
       "ocean_proximity        object\n",
       "dtype: object"
      ]
     },
     "execution_count": 7,
     "metadata": {},
     "output_type": "execute_result"
    }
   ],
   "source": [
    "df.dtypes"
   ]
  },
  {
   "cell_type": "code",
   "execution_count": 8,
   "id": "34a2773a-5173-4db0-a1bb-42019df8e01a",
   "metadata": {},
   "outputs": [
    {
     "data": {
      "text/plain": [
       "ocean_proximity\n",
       "<1H OCEAN     9136\n",
       "INLAND        6551\n",
       "NEAR OCEAN    2658\n",
       "NEAR BAY      2290\n",
       "ISLAND           5\n",
       "Name: count, dtype: int64"
      ]
     },
     "execution_count": 8,
     "metadata": {},
     "output_type": "execute_result"
    }
   ],
   "source": [
    "df.ocean_proximity.value_counts()"
   ]
  },
  {
   "cell_type": "code",
   "execution_count": 9,
   "id": "5f83bbaa-7def-47e6-bceb-78cbdf245696",
   "metadata": {},
   "outputs": [],
   "source": [
    "df.ocean_proximity = df.ocean_proximity.str.lower().str.replace(' ','_')"
   ]
  },
  {
   "cell_type": "code",
   "execution_count": 10,
   "id": "7c0596c0-9e9e-4db1-ba6d-2ab932ca482d",
   "metadata": {},
   "outputs": [
    {
     "data": {
      "text/html": [
       "<div>\n",
       "<style scoped>\n",
       "    .dataframe tbody tr th:only-of-type {\n",
       "        vertical-align: middle;\n",
       "    }\n",
       "\n",
       "    .dataframe tbody tr th {\n",
       "        vertical-align: top;\n",
       "    }\n",
       "\n",
       "    .dataframe thead th {\n",
       "        text-align: right;\n",
       "    }\n",
       "</style>\n",
       "<table border=\"1\" class=\"dataframe\">\n",
       "  <thead>\n",
       "    <tr style=\"text-align: right;\">\n",
       "      <th></th>\n",
       "      <th>housing_median_age</th>\n",
       "      <th>population</th>\n",
       "      <th>median_income</th>\n",
       "      <th>total_rooms</th>\n",
       "    </tr>\n",
       "  </thead>\n",
       "  <tbody>\n",
       "    <tr>\n",
       "      <th>0</th>\n",
       "      <td>41.0</td>\n",
       "      <td>322.0</td>\n",
       "      <td>8.3252</td>\n",
       "      <td>880.0</td>\n",
       "    </tr>\n",
       "    <tr>\n",
       "      <th>1</th>\n",
       "      <td>21.0</td>\n",
       "      <td>2401.0</td>\n",
       "      <td>8.3014</td>\n",
       "      <td>7099.0</td>\n",
       "    </tr>\n",
       "    <tr>\n",
       "      <th>2</th>\n",
       "      <td>52.0</td>\n",
       "      <td>496.0</td>\n",
       "      <td>7.2574</td>\n",
       "      <td>1467.0</td>\n",
       "    </tr>\n",
       "    <tr>\n",
       "      <th>3</th>\n",
       "      <td>52.0</td>\n",
       "      <td>558.0</td>\n",
       "      <td>5.6431</td>\n",
       "      <td>1274.0</td>\n",
       "    </tr>\n",
       "    <tr>\n",
       "      <th>4</th>\n",
       "      <td>52.0</td>\n",
       "      <td>565.0</td>\n",
       "      <td>3.8462</td>\n",
       "      <td>1627.0</td>\n",
       "    </tr>\n",
       "    <tr>\n",
       "      <th>...</th>\n",
       "      <td>...</td>\n",
       "      <td>...</td>\n",
       "      <td>...</td>\n",
       "      <td>...</td>\n",
       "    </tr>\n",
       "    <tr>\n",
       "      <th>20635</th>\n",
       "      <td>25.0</td>\n",
       "      <td>845.0</td>\n",
       "      <td>1.5603</td>\n",
       "      <td>1665.0</td>\n",
       "    </tr>\n",
       "    <tr>\n",
       "      <th>20636</th>\n",
       "      <td>18.0</td>\n",
       "      <td>356.0</td>\n",
       "      <td>2.5568</td>\n",
       "      <td>697.0</td>\n",
       "    </tr>\n",
       "    <tr>\n",
       "      <th>20637</th>\n",
       "      <td>17.0</td>\n",
       "      <td>1007.0</td>\n",
       "      <td>1.7000</td>\n",
       "      <td>2254.0</td>\n",
       "    </tr>\n",
       "    <tr>\n",
       "      <th>20638</th>\n",
       "      <td>18.0</td>\n",
       "      <td>741.0</td>\n",
       "      <td>1.8672</td>\n",
       "      <td>1860.0</td>\n",
       "    </tr>\n",
       "    <tr>\n",
       "      <th>20639</th>\n",
       "      <td>16.0</td>\n",
       "      <td>1387.0</td>\n",
       "      <td>2.3886</td>\n",
       "      <td>2785.0</td>\n",
       "    </tr>\n",
       "  </tbody>\n",
       "</table>\n",
       "<p>20640 rows × 4 columns</p>\n",
       "</div>"
      ],
      "text/plain": [
       "       housing_median_age  population  median_income  total_rooms\n",
       "0                    41.0       322.0         8.3252        880.0\n",
       "1                    21.0      2401.0         8.3014       7099.0\n",
       "2                    52.0       496.0         7.2574       1467.0\n",
       "3                    52.0       558.0         5.6431       1274.0\n",
       "4                    52.0       565.0         3.8462       1627.0\n",
       "...                   ...         ...            ...          ...\n",
       "20635                25.0       845.0         1.5603       1665.0\n",
       "20636                18.0       356.0         2.5568        697.0\n",
       "20637                17.0      1007.0         1.7000       2254.0\n",
       "20638                18.0       741.0         1.8672       1860.0\n",
       "20639                16.0      1387.0         2.3886       2785.0\n",
       "\n",
       "[20640 rows x 4 columns]"
      ]
     },
     "execution_count": 10,
     "metadata": {},
     "output_type": "execute_result"
    }
   ],
   "source": [
    "df[['housing_median_age','population','median_income','total_rooms']]"
   ]
  },
  {
   "cell_type": "code",
   "execution_count": 11,
   "id": "4104d8ae-f0a8-4e35-b1ef-f6d362dafa93",
   "metadata": {},
   "outputs": [
    {
     "data": {
      "image/png": "[encoded data removed]",
      "text/plain": [
       "<Figure size 600x400 with 1 Axes>"
      ]
     },
     "metadata": {},
     "output_type": "display_data"
    }
   ],
   "source": [
    "plt.figure(figsize=(6, 4))\n",
    "\n",
    "median_income = df.median_income * 10000\n",
    "sns.histplot(median_income, label='median_income', color='blue', alpha=0.6, bins=40)\n",
    "\n",
    "plt.legend()\n",
    "\n",
    "plt.ylabel('Frequency')\n",
    "plt.xlabel('median_income')\n",
    "\n",
    "\n",
    "plt.show()"
   ]
  },
  {
   "cell_type": "code",
   "execution_count": 12,
   "id": "8279892a-9596-4aa2-8ee6-5dcc468fdb74",
   "metadata": {},
   "outputs": [
    {
     "data": {
      "text/plain": [
       "Index(['longitude', 'latitude', 'housing_median_age', 'total_rooms',\n",
       "       'total_bedrooms', 'population', 'households', 'median_income',\n",
       "       'median_house_value', 'ocean_proximity'],\n",
       "      dtype='object')"
      ]
     },
     "execution_count": 12,
     "metadata": {},
     "output_type": "execute_result"
    }
   ],
   "source": [
    "df.columns"
   ]
  },
  {
   "cell_type": "markdown",
   "id": "f58032b7-1332-4470-9506-6715c1cd754d",
   "metadata": {},
   "source": [
    "### Validation Framework - Splitting Data"
   ]
  },
  {
   "cell_type": "code",
   "execution_count": 13,
   "id": "789e55f1-29a0-4436-8e98-52e63e82e266",
   "metadata": {},
   "outputs": [
    {
     "data": {
      "text/plain": [
       "20640"
      ]
     },
     "execution_count": 13,
     "metadata": {},
     "output_type": "execute_result"
    }
   ],
   "source": [
    "len(df)"
   ]
  },
  {
   "cell_type": "code",
   "execution_count": 14,
   "id": "79e7dc9d-eff3-4c17-b129-f09812b0181d",
   "metadata": {},
   "outputs": [],
   "source": [
    "np.random.seed(2)\n",
    "\n",
    "n = len(df)\n",
    "n_val = int(n * 0.2)\n",
    "n_test = int(n * 0.2)\n",
    "n_train = n - n_val - n_test\n",
    "\n",
    "idx = np.arange(n) # array from 1 to n ( number or rows ) \n",
    "np.random.shuffle(idx) # shuffling the positiion of the elements inside the array \n",
    "df_shuffled = df.iloc[idx] # shuffling rows inside df\n",
    "\n",
    "#splitting data into 60%, 20% and 20% portion\n",
    "df_train = df_shuffled.iloc[:n_train].copy() # iloc[start:stop]\n",
    "df_val = df_shuffled.iloc[n_train:n_train+n_val].copy()\n",
    "df_test = df_shuffled.iloc[n_train+n_val:].copy()\n",
    "\n",
    "y_train = df_train.median_house_value.values\n",
    "y_val = df_val.median_house_value.values\n",
    "y_test = df_test.median_house_value.values\n",
    "\n",
    "del df_train['median_house_value']\n",
    "del df_val['median_house_value']\n",
    "del df_test['median_house_value']"
   ]
  },
  {
   "cell_type": "markdown",
   "id": "7544f23e-1bb2-4e01-974b-146419b0ef34",
   "metadata": {},
   "source": [
    "### Linear regression"
   ]
  },
  {
   "cell_type": "code",
   "execution_count": 15,
   "id": "b7dc9233-f396-4280-9f0c-8c20b88a426d",
   "metadata": {},
   "outputs": [],
   "source": [
    "def train_linear_regression(X,y):\n",
    "    ones = np.ones(X.shape[0]) # X.shape returns a tupe ( num rows , num of columns ) X.shape[0] returns num of rowsand then creates array of ones of that size\n",
    "    X = np.column_stack([ones, X]) # column_stack expect a list of arrays. ones will be stacked as first column\n",
    "\n",
    "    XTX = X.T.dot(X) # computer X Transpose multiplied by X ( Gram Matrix ) \n",
    "    XTX_inv = np.linalg.inv(XTX) # Get inverse of gram Matrix\n",
    "    w = XTX_inv.dot(X.T).dot(y) # return vector w that contains bias term w0 and rest of the weigts\n",
    "    \n",
    "    return w[0], w[1:]"
   ]
  },
  {
   "cell_type": "markdown",
   "id": "20dc9a26-3370-4c7b-9220-cae48b51e4ba",
   "metadata": {},
   "source": [
    "### Baseline solution"
   ]
  },
  {
   "cell_type": "code",
   "execution_count": 67,
   "id": "5709084d-796c-4de5-8380-6031b7782ea5",
   "metadata": {},
   "outputs": [],
   "source": [
    "base_  = ['housing_median_age','longitude_per_income','latitude_per_income','population_per_age','bedrooms_per_age','rooms_per_age','rooms_per_income','housing_age_per_income','bedrooms_per_room_per_income','population','median_income','population_per_income','longitude','latitude','population_per_household','bedrooms_per_room','rooms_per_household']"
   ]
  },
  {
   "cell_type": "code",
   "execution_count": 83,
   "id": "7fbf0dd1-4998-4f53-a0a4-065b057621af",
   "metadata": {},
   "outputs": [],
   "source": [
    "base  = ['median_income','total_bedrooms','total_rooms']"
   ]
  },
  {
   "cell_type": "code",
   "execution_count": 65,
   "id": "b18f9c41-63b0-45ae-8e26-2c71dfe37095",
   "metadata": {},
   "outputs": [],
   "source": [
    "def prepare_X_(df):\n",
    "    \n",
    "    \n",
    "    df = df.copy()\n",
    "    features = base.copy()\n",
    "    \n",
    "\n",
    "    df['population_per_household'] = (df['population'] / df['households']).round(2)\n",
    "    df['bedrooms_per_room'] = (df['total_bedrooms'] / df['total_rooms']).round(2)\n",
    "    df['rooms_per_household'] = (df['total_rooms'] / df['households']).round(2)\n",
    "\n",
    "    df['housing_age_per_income'] = (df['housing_median_age'] / df['median_income']).round(2)\n",
    "    df['rooms_per_income'] = (df['rooms_per_household'] / df['median_income']).round(2)\n",
    "    df['bedrooms_per_room_per_income'] = (df['bedrooms_per_room'] / df['median_income']).round(2)\n",
    "    df['population_per_income'] = (df['population'] / df['median_income']).round(2)\n",
    "    df['longitude_per_income'] = (df['longitude'] / df['median_income']).round(2)\n",
    "    df['latitude_per_income'] = (df['latitude'] / df['median_income']).round(2)\n",
    "    \n",
    "    df['bedrooms_per_age'] = (df['total_bedrooms'] / df['housing_median_age']).round(2)\n",
    "    df['rooms_per_age'] = (df['total_rooms'] / df['housing_median_age']).round(2)\n",
    "    df['population_per_age'] = (df['population'] / df['housing_median_age']).round(2)\n",
    "\n",
    "    \n",
    "    #df['median_income'] = df.median_income * 10000\n",
    "\n",
    "    \n",
    "    \n",
    "    for v in ['<1h_ocean', 'inland', 'near_ocean', 'near_bay']:\n",
    "        feature = 'is_ocean_proximity_%s' % v\n",
    "        df[feature] = (df['ocean_proximity'] == v).astype(int)\n",
    "        features.append(feature)\n",
    "\n",
    "    \n",
    "        \n",
    "    df_num = df[features]\n",
    "    df_num = df_num.fillna(0)\n",
    "    #print(df_num.columns)\n",
    "    \n",
    "    X = df_num.values\n",
    "\n",
    "    return X"
   ]
  },
  {
   "cell_type": "code",
   "execution_count": 84,
   "id": "7a7ecbef-e6e9-44c3-ba8b-504048f8fab5",
   "metadata": {},
   "outputs": [],
   "source": [
    "def prepare_X(df):\n",
    "    \n",
    "    \n",
    "    df = df.copy()\n",
    "    features = base.copy()\n",
    "    \n",
    "\n",
    "    \n",
    "    \n",
    "    \n",
    "    \n",
    "\n",
    "    \n",
    "    #df['median_income'] = df.median_income * 10000\n",
    "\n",
    "    \n",
    "    \n",
    "    for v in ['<1h_ocean', 'inland', 'near_ocean', 'near_bay']:\n",
    "        feature = 'is_ocean_proximity_%s' % v\n",
    "        df[feature] = (df['ocean_proximity'] == v).astype(int)\n",
    "        features.append(feature)\n",
    "\n",
    "    \n",
    "        \n",
    "    df_num = df[features]\n",
    "    df_num = df_num.fillna(0)\n",
    "    #print(df_num.columns)\n",
    "    \n",
    "    X = df_num.values\n",
    "\n",
    "    return X"
   ]
  },
  {
   "cell_type": "code",
   "execution_count": 85,
   "id": "7f2e4ce1-eedd-4d35-8726-9e29bb0ef9b2",
   "metadata": {},
   "outputs": [],
   "source": [
    "X_train = prepare_X(df_train)\n",
    "\n",
    "w_0, w = train_linear_regression(X_train,y_train)\n",
    "y_pred = w_0 + X_train.dot(w)"
   ]
  },
  {
   "cell_type": "code",
   "execution_count": 86,
   "id": "f995cc33-1584-4e7d-85f5-07cbaa3fa950",
   "metadata": {},
   "outputs": [
    {
     "data": {
      "image/png": "[encoded data removed]",
      "text/plain": [
       "<Figure size 600x400 with 1 Axes>"
      ]
     },
     "metadata": {},
     "output_type": "display_data"
    }
   ],
   "source": [
    "plt.figure(figsize=(6, 4))\n",
    "\n",
    "sns.histplot(y_train, label='target', color='blue', alpha=0.2, bins=40)\n",
    "sns.histplot(y_pred, label='prediction', color='red', alpha=0.2, bins=40)\n",
    "\n",
    "plt.legend()\n",
    "\n",
    "plt.ylabel('Frequency')\n",
    "plt.xlabel('Target vs Prediction')\n",
    "\n",
    "\n",
    "plt.show()"
   ]
  },
  {
   "cell_type": "code",
   "execution_count": 87,
   "id": "882b575e-2925-4c94-aeb0-5e0e05c275e0",
   "metadata": {},
   "outputs": [],
   "source": [
    "def rmse(y,y_pred):\n",
    "    error = y_pred - y\n",
    "    mse = (error ** 2).mean()\n",
    "    rmse = float(np.sqrt(mse))\n",
    "    return rmse "
   ]
  },
  {
   "cell_type": "code",
   "execution_count": 88,
   "id": "720d016e-a880-45e5-9f22-da1dd8722556",
   "metadata": {},
   "outputs": [
    {
     "data": {
      "text/plain": [
       "73523.48464696352"
      ]
     },
     "execution_count": 88,
     "metadata": {},
     "output_type": "execute_result"
    }
   ],
   "source": [
    "rmse_ = rmse(y_train,y_pred)\n",
    "rmse_"
   ]
  },
  {
   "cell_type": "markdown",
   "id": "286107da-09b7-4970-9d51-c53474d11b69",
   "metadata": {},
   "source": [
    "### Simple Feature Engineer"
   ]
  },
  {
   "cell_type": "code",
   "execution_count": 21,
   "id": "170687a8-41c1-4ac7-b273-1a8d928ca097",
   "metadata": {},
   "outputs": [
    {
     "data": {
      "text/plain": [
       "longitude             float64\n",
       "latitude              float64\n",
       "housing_median_age    float64\n",
       "total_rooms           float64\n",
       "total_bedrooms        float64\n",
       "population            float64\n",
       "households            float64\n",
       "median_income         float64\n",
       "median_house_value    float64\n",
       "ocean_proximity        object\n",
       "dtype: object"
      ]
     },
     "execution_count": 21,
     "metadata": {},
     "output_type": "execute_result"
    }
   ],
   "source": [
    "df.dtypes"
   ]
  },
  {
   "cell_type": "code",
   "execution_count": 22,
   "id": "2b7b5a9c-42a9-4f88-a13b-bdabce38a297",
   "metadata": {},
   "outputs": [
    {
     "data": {
      "text/plain": [
       "52.0"
      ]
     },
     "execution_count": 22,
     "metadata": {},
     "output_type": "execute_result"
    }
   ],
   "source": [
    "df.housing_median_age.max()"
   ]
  },
  {
   "cell_type": "code",
   "execution_count": 89,
   "id": "a43313d8-9c4a-4f7c-bbd2-4cf55b86ce3b",
   "metadata": {},
   "outputs": [
    {
     "name": "stdout",
     "output_type": "stream",
     "text": [
      "rmse train  73523.48464696352\n",
      "rmse validation  4216533.9817814855\n"
     ]
    }
   ],
   "source": [
    "X_train = prepare_X(df_train)\n",
    "\n",
    "w_0, w = train_linear_regression(X_train,y_train)\n",
    "y_pred = w_0 + X_train.dot(w)\n",
    "rmse_train = rmse(y_train,y_pred)\n",
    "print(\"rmse train \",rmse_train)\n",
    "\n",
    "X_val = prepare_X(df_val)\n",
    "\n",
    "w_0, w = train_linear_regression(X_val,y_val)\n",
    "y_pred = w_0 + X_val.dot(w)\n",
    "rmse_val = rmse(y_val,y_pred)\n",
    "print(\"rmse validation \",rmse_val)\n"
   ]
  },
  {
   "cell_type": "code",
   "execution_count": 90,
   "id": "9505ab4a-e709-45a7-b246-0719c28d1709",
   "metadata": {},
   "outputs": [
    {
     "data": {
      "image/png": "[encoded data removed]",
      "text/plain": [
       "<Figure size 600x400 with 1 Axes>"
      ]
     },
     "metadata": {},
     "output_type": "display_data"
    }
   ],
   "source": [
    "plt.figure(figsize=(6, 4))\n",
    "\n",
    "\n",
    "sns.histplot(y_val, label='target', color='blue', alpha=0.6, bins=40)\n",
    "sns.histplot(y_pred, label='prediction', color='red', alpha=0.3, bins=40)\n",
    "\n",
    "plt.legend()\n",
    "\n",
    "plt.ylabel('Frequency')\n",
    "plt.xlabel('Log(Price + 1)')\n",
    "plt.title('Predictions vs actual distribution')\n",
    "\n",
    "plt.show()"
   ]
  },
  {
   "cell_type": "markdown",
   "id": "2083a56a-ab99-4c99-8491-4d967786d469",
   "metadata": {},
   "source": [
    "### Regularization"
   ]
  },
  {
   "cell_type": "code",
   "execution_count": 91,
   "id": "3b98b8c7-7b3d-41f2-874a-938040c07ccd",
   "metadata": {},
   "outputs": [],
   "source": [
    "# we are introducing a new arg r in our previous function\n",
    "def train_linear_regression_reg(X, y, r=0.0):\n",
    "    ones = np.ones(X.shape[0])\n",
    "    X = np.column_stack([ones, X])\n",
    "\n",
    "    XTX = X.T.dot(X)\n",
    "    reg = r * np.eye(XTX.shape[0]) \n",
    "    XTX = XTX + reg # we are adding a number in form of I matrice to the gram matrice XTX\n",
    "\n",
    "    XTX_inv = np.linalg.inv(XTX)\n",
    "    w = XTX_inv.dot(X.T).dot(y)\n",
    "    \n",
    "    return w[0], w[1:] #return new weight vector ( bias term and the rest of weights ) "
   ]
  },
  {
   "cell_type": "code",
   "execution_count": 104,
   "id": "3a428a0d-8ee7-4e47-ac35-112d6c92f439",
   "metadata": {},
   "outputs": [
    {
     "name": "stdout",
     "output_type": "stream",
     "text": [
      "    0, 284091.41, -198687.42, -198687.42\n",
      "0.001, 283791.53, -198387.44, -198387.44\n",
      " 0.01, 281125.99, -195720.95, -195720.95\n",
      "  0.1, 257403.40, -171990.54, -171990.54\n",
      "    1, 150659.67, -65242.20, -65242.20\n",
      "   10, 61465.78, 23449.46, 23449.46\n",
      " 1000, 25890.67, 24639.96, 24639.96\n",
      "10000, 9814.10, 6126.40, 6126.40\n",
      "100000, 4564.27, 1190.34, 1190.34\n",
      "1000000, 832.92, 173.13, 173.13\n",
      "10000000, 90.94, 18.40, 18.40\n",
      "100000000, 9.20, 1.86, 1.86\n",
      "1000000000, 0.93, 0.19, 0.19\n"
     ]
    }
   ],
   "source": [
    "X_train = prepare_X_(df_train)\n",
    "# we are looping here to find the best r value \n",
    "for r in [0, 0.001, 0.01, 0.1, 1, 10, 1000, 10000, 100000, 1000000,  10000000,  100000000,  1000000000]:\n",
    "    w_0, w = train_linear_regression_reg(X_train, y_train, r=r)\n",
    "    print('%5s, %.2f, %.2f, %.2f' % (r, w_0, w[6], w[6]))"
   ]
  },
  {
   "cell_type": "code",
   "execution_count": 109,
   "id": "f4c8f508-b46b-4ad7-b886-cfed35bdc69f",
   "metadata": {},
   "outputs": [
    {
     "name": "stdout",
     "output_type": "stream",
     "text": [
      "train 73632.20779936263\n"
     ]
    }
   ],
   "source": [
    "X_train = prepare_X(df_train)\n",
    "w_0, w = train_linear_regression_reg(X_train, y_train, r=10) # trying with r=0.001\n",
    "\n",
    "y_pred = w_0 + X_train.dot(w)\n",
    "print('train', rmse(y_train, y_pred))"
   ]
  }
 ],
 "metadata": {
  "kernelspec": {
   "display_name": "Python 3 (ipykernel)",
   "language": "python",
   "name": "python3"
  },
  "language_info": {
   "codemirror_mode": {
    "name": "ipython",
    "version": 3
   },
   "file_extension": ".py",
   "mimetype": "text/x-python",
   "name": "python",
   "nbconvert_exporter": "python",
   "pygments_lexer": "ipython3",
   "version": "3.13.5"
  }
 },
 "nbformat": 4,
 "nbformat_minor": 5
}

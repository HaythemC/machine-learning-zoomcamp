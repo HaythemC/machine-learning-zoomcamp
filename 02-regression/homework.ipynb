{
 "cells": [
  {
   "cell_type": "markdown",
   "id": "6879526e-92ff-4834-8f04-18bee61bf372",
   "metadata": {},
   "source": [
    "### Set env"
   ]
  },
  {
   "cell_type": "code",
   "execution_count": 1,
   "id": "cfa7c395-d47e-4d05-8a28-2a978e1fee72",
   "metadata": {},
   "outputs": [],
   "source": [
    "import pandas as pd \n",
    "import numpy as np \n",
    "from matplotlib import pyplot as plt \n",
    "import seaborn as sns"
   ]
  },
  {
   "cell_type": "markdown",
   "id": "aea3cea0-bcc7-420a-bf3b-da14c62cb6fb",
   "metadata": {},
   "source": [
    "### Dataset"
   ]
  },
  {
   "cell_type": "code",
   "execution_count": 2,
   "id": "2eaefbd4-abe4-4196-9722-84eb5b805dba",
   "metadata": {},
   "outputs": [],
   "source": [
    "url = \"https://raw.githubusercontent.com/alexeygrigorev/datasets/master/car_fuel_efficiency.csv\"\n"
   ]
  },
  {
   "cell_type": "code",
   "execution_count": 3,
   "id": "31728ec8-a8a6-4197-a11c-d757fb81b9fb",
   "metadata": {},
   "outputs": [],
   "source": [
    "df = pd.read_csv(url,index_col=0)"
   ]
  },
  {
   "cell_type": "markdown",
   "id": "4c8b4ea1-6600-46e9-8075-a54f106c66d6",
   "metadata": {},
   "source": [
    "### Preparing the dataset"
   ]
  },
  {
   "cell_type": "code",
   "execution_count": 4,
   "id": "fcb3f12c-75e9-4d7e-8a0c-eb142839f6f0",
   "metadata": {},
   "outputs": [
    {
     "data": {
      "text/plain": [
       "num_cylinders          float64\n",
       "horsepower             float64\n",
       "vehicle_weight         float64\n",
       "acceleration           float64\n",
       "model_year               int64\n",
       "origin                  object\n",
       "fuel_type               object\n",
       "drivetrain              object\n",
       "num_doors              float64\n",
       "fuel_efficiency_mpg    float64\n",
       "dtype: object"
      ]
     },
     "execution_count": 4,
     "metadata": {},
     "output_type": "execute_result"
    }
   ],
   "source": [
    "df.dtypes"
   ]
  },
  {
   "cell_type": "code",
   "execution_count": 5,
   "id": "59fbc0f5-527e-412e-91fe-3a91df9a7776",
   "metadata": {},
   "outputs": [
    {
     "data": {
      "text/html": [
       "<div>\n",
       "<style scoped>\n",
       "    .dataframe tbody tr th:only-of-type {\n",
       "        vertical-align: middle;\n",
       "    }\n",
       "\n",
       "    .dataframe tbody tr th {\n",
       "        vertical-align: top;\n",
       "    }\n",
       "\n",
       "    .dataframe thead th {\n",
       "        text-align: right;\n",
       "    }\n",
       "</style>\n",
       "<table border=\"1\" class=\"dataframe\">\n",
       "  <thead>\n",
       "    <tr style=\"text-align: right;\">\n",
       "      <th></th>\n",
       "      <th>num_cylinders</th>\n",
       "      <th>horsepower</th>\n",
       "      <th>vehicle_weight</th>\n",
       "      <th>acceleration</th>\n",
       "      <th>model_year</th>\n",
       "      <th>origin</th>\n",
       "      <th>fuel_type</th>\n",
       "      <th>drivetrain</th>\n",
       "      <th>num_doors</th>\n",
       "      <th>fuel_efficiency_mpg</th>\n",
       "    </tr>\n",
       "    <tr>\n",
       "      <th>engine_displacement</th>\n",
       "      <th></th>\n",
       "      <th></th>\n",
       "      <th></th>\n",
       "      <th></th>\n",
       "      <th></th>\n",
       "      <th></th>\n",
       "      <th></th>\n",
       "      <th></th>\n",
       "      <th></th>\n",
       "      <th></th>\n",
       "    </tr>\n",
       "  </thead>\n",
       "  <tbody>\n",
       "    <tr>\n",
       "      <th>170</th>\n",
       "      <td>3.0</td>\n",
       "      <td>159.0</td>\n",
       "      <td>3413.433759</td>\n",
       "      <td>17.7</td>\n",
       "      <td>2003</td>\n",
       "      <td>Europe</td>\n",
       "      <td>Gasoline</td>\n",
       "      <td>All-wheel drive</td>\n",
       "      <td>0.0</td>\n",
       "      <td>13.231729</td>\n",
       "    </tr>\n",
       "    <tr>\n",
       "      <th>130</th>\n",
       "      <td>5.0</td>\n",
       "      <td>97.0</td>\n",
       "      <td>3149.664934</td>\n",
       "      <td>17.8</td>\n",
       "      <td>2007</td>\n",
       "      <td>USA</td>\n",
       "      <td>Gasoline</td>\n",
       "      <td>Front-wheel drive</td>\n",
       "      <td>0.0</td>\n",
       "      <td>13.688217</td>\n",
       "    </tr>\n",
       "  </tbody>\n",
       "</table>\n",
       "</div>"
      ],
      "text/plain": [
       "                     num_cylinders  horsepower  vehicle_weight  acceleration  \\\n",
       "engine_displacement                                                            \n",
       "170                            3.0       159.0     3413.433759          17.7   \n",
       "130                            5.0        97.0     3149.664934          17.8   \n",
       "\n",
       "                     model_year  origin fuel_type         drivetrain  \\\n",
       "engine_displacement                                                    \n",
       "170                        2003  Europe  Gasoline    All-wheel drive   \n",
       "130                        2007     USA  Gasoline  Front-wheel drive   \n",
       "\n",
       "                     num_doors  fuel_efficiency_mpg  \n",
       "engine_displacement                                  \n",
       "170                        0.0            13.231729  \n",
       "130                        0.0            13.688217  "
      ]
     },
     "execution_count": 5,
     "metadata": {},
     "output_type": "execute_result"
    }
   ],
   "source": [
    "df.head(n=2)"
   ]
  },
  {
   "cell_type": "code",
   "execution_count": 6,
   "id": "6a7bed99-e0d6-4fd4-91f5-11bd3a7d1467",
   "metadata": {},
   "outputs": [],
   "source": [
    "df = df.reset_index()"
   ]
  },
  {
   "cell_type": "code",
   "execution_count": 7,
   "id": "430c0b0f-ba8e-4fd3-9643-c50cb834b3fa",
   "metadata": {},
   "outputs": [
    {
     "data": {
      "text/html": [
       "<div>\n",
       "<style scoped>\n",
       "    .dataframe tbody tr th:only-of-type {\n",
       "        vertical-align: middle;\n",
       "    }\n",
       "\n",
       "    .dataframe tbody tr th {\n",
       "        vertical-align: top;\n",
       "    }\n",
       "\n",
       "    .dataframe thead th {\n",
       "        text-align: right;\n",
       "    }\n",
       "</style>\n",
       "<table border=\"1\" class=\"dataframe\">\n",
       "  <thead>\n",
       "    <tr style=\"text-align: right;\">\n",
       "      <th></th>\n",
       "      <th>engine_displacement</th>\n",
       "      <th>num_cylinders</th>\n",
       "      <th>horsepower</th>\n",
       "      <th>vehicle_weight</th>\n",
       "      <th>acceleration</th>\n",
       "      <th>model_year</th>\n",
       "      <th>origin</th>\n",
       "      <th>fuel_type</th>\n",
       "      <th>drivetrain</th>\n",
       "      <th>num_doors</th>\n",
       "      <th>fuel_efficiency_mpg</th>\n",
       "    </tr>\n",
       "  </thead>\n",
       "  <tbody>\n",
       "    <tr>\n",
       "      <th>0</th>\n",
       "      <td>170</td>\n",
       "      <td>3.0</td>\n",
       "      <td>159.0</td>\n",
       "      <td>3413.433759</td>\n",
       "      <td>17.7</td>\n",
       "      <td>2003</td>\n",
       "      <td>Europe</td>\n",
       "      <td>Gasoline</td>\n",
       "      <td>All-wheel drive</td>\n",
       "      <td>0.0</td>\n",
       "      <td>13.231729</td>\n",
       "    </tr>\n",
       "    <tr>\n",
       "      <th>1</th>\n",
       "      <td>130</td>\n",
       "      <td>5.0</td>\n",
       "      <td>97.0</td>\n",
       "      <td>3149.664934</td>\n",
       "      <td>17.8</td>\n",
       "      <td>2007</td>\n",
       "      <td>USA</td>\n",
       "      <td>Gasoline</td>\n",
       "      <td>Front-wheel drive</td>\n",
       "      <td>0.0</td>\n",
       "      <td>13.688217</td>\n",
       "    </tr>\n",
       "  </tbody>\n",
       "</table>\n",
       "</div>"
      ],
      "text/plain": [
       "   engine_displacement  num_cylinders  horsepower  vehicle_weight  \\\n",
       "0                  170            3.0       159.0     3413.433759   \n",
       "1                  130            5.0        97.0     3149.664934   \n",
       "\n",
       "   acceleration  model_year  origin fuel_type         drivetrain  num_doors  \\\n",
       "0          17.7        2003  Europe  Gasoline    All-wheel drive        0.0   \n",
       "1          17.8        2007     USA  Gasoline  Front-wheel drive        0.0   \n",
       "\n",
       "   fuel_efficiency_mpg  \n",
       "0            13.231729  \n",
       "1            13.688217  "
      ]
     },
     "execution_count": 7,
     "metadata": {},
     "output_type": "execute_result"
    }
   ],
   "source": [
    "df.head(n=2)"
   ]
  },
  {
   "cell_type": "code",
   "execution_count": 8,
   "id": "8d7653c9-0e64-43a5-97ea-fe1278c69f16",
   "metadata": {},
   "outputs": [],
   "source": [
    "df = df[['engine_displacement','horsepower','vehicle_weight','model_year','fuel_efficiency_mpg']]"
   ]
  },
  {
   "cell_type": "markdown",
   "id": "ff019685-0cd2-44b4-9ac6-c03432e2db0d",
   "metadata": {},
   "source": [
    "### EDA"
   ]
  },
  {
   "cell_type": "markdown",
   "id": "b64bd93f-5558-4d94-99f8-41c3935dd3cf",
   "metadata": {},
   "source": [
    "#### Question 1"
   ]
  },
  {
   "cell_type": "code",
   "execution_count": 9,
   "id": "57f009e1-f6e4-4ab7-9de7-4c989b17eb25",
   "metadata": {},
   "outputs": [
    {
     "data": {
      "text/plain": [
       "engine_displacement      0\n",
       "horsepower             708\n",
       "vehicle_weight           0\n",
       "model_year               0\n",
       "fuel_efficiency_mpg      0\n",
       "dtype: int64"
      ]
     },
     "execution_count": 9,
     "metadata": {},
     "output_type": "execute_result"
    }
   ],
   "source": [
    "df.isnull().sum()"
   ]
  },
  {
   "cell_type": "code",
   "execution_count": 10,
   "id": "58bc26b2-42cb-4190-945d-fc2dedf39c7b",
   "metadata": {},
   "outputs": [
    {
     "data": {
      "text/plain": [
       "engine_displacement      int64\n",
       "horsepower             float64\n",
       "vehicle_weight         float64\n",
       "model_year               int64\n",
       "fuel_efficiency_mpg    float64\n",
       "dtype: object"
      ]
     },
     "execution_count": 10,
     "metadata": {},
     "output_type": "execute_result"
    }
   ],
   "source": [
    "df.dtypes"
   ]
  },
  {
   "cell_type": "markdown",
   "id": "5ce96996-6afa-49d2-b838-53ab1aa14ad2",
   "metadata": {},
   "source": [
    "#### Question 2"
   ]
  },
  {
   "cell_type": "code",
   "execution_count": 11,
   "id": "7972ff65-12b5-4054-a014-0349f7de72f1",
   "metadata": {},
   "outputs": [
    {
     "data": {
      "text/plain": [
       "149.0"
      ]
     },
     "execution_count": 11,
     "metadata": {},
     "output_type": "execute_result"
    }
   ],
   "source": [
    "df.horsepower.median()"
   ]
  },
  {
   "cell_type": "code",
   "execution_count": 12,
   "id": "9c70f01d-f531-4a53-87ce-ef28182cd403",
   "metadata": {},
   "outputs": [
    {
     "data": {
      "image/png": "[encoded data removed]",
      "text/plain": [
       "<Figure size 600x400 with 1 Axes>"
      ]
     },
     "metadata": {},
     "output_type": "display_data"
    }
   ],
   "source": [
    "plt.figure(figsize=(6, 4))\n",
    "fuel_efficiency_mpg = df.fuel_efficiency_mpg\n",
    "sns.histplot(fuel_efficiency_mpg, label='fuel_efficiency_mpg', color='blue', alpha=0.6, bins=40)\n",
    "plt.legend()\n",
    "plt.ylabel('Frequency')\n",
    "plt.xlabel('fuel_efficiency_mpg')\n",
    "plt.show()"
   ]
  },
  {
   "cell_type": "markdown",
   "id": "d27c5dc1-6642-40cd-8a09-643ff756fab8",
   "metadata": {},
   "source": [
    "### Prepare and split the dataset"
   ]
  },
  {
   "cell_type": "code",
   "execution_count": 13,
   "id": "0a4a90d5-192f-4640-a00d-f34f5d4380bf",
   "metadata": {},
   "outputs": [
    {
     "data": {
      "text/plain": [
       "9704"
      ]
     },
     "execution_count": 13,
     "metadata": {},
     "output_type": "execute_result"
    }
   ],
   "source": [
    "len(df)"
   ]
  },
  {
   "cell_type": "code",
   "execution_count": 14,
   "id": "fb9a952b-a528-4d84-af2f-2894bd661011",
   "metadata": {},
   "outputs": [],
   "source": [
    "np.random.seed(42)"
   ]
  },
  {
   "cell_type": "code",
   "execution_count": 15,
   "id": "07b959a2-7244-46a5-9400-8b097efae4f4",
   "metadata": {},
   "outputs": [
    {
     "data": {
      "text/html": [
       "<div>\n",
       "<style scoped>\n",
       "    .dataframe tbody tr th:only-of-type {\n",
       "        vertical-align: middle;\n",
       "    }\n",
       "\n",
       "    .dataframe tbody tr th {\n",
       "        vertical-align: top;\n",
       "    }\n",
       "\n",
       "    .dataframe thead th {\n",
       "        text-align: right;\n",
       "    }\n",
       "</style>\n",
       "<table border=\"1\" class=\"dataframe\">\n",
       "  <thead>\n",
       "    <tr style=\"text-align: right;\">\n",
       "      <th></th>\n",
       "      <th>engine_displacement</th>\n",
       "      <th>horsepower</th>\n",
       "      <th>vehicle_weight</th>\n",
       "      <th>model_year</th>\n",
       "      <th>fuel_efficiency_mpg</th>\n",
       "    </tr>\n",
       "  </thead>\n",
       "  <tbody>\n",
       "    <tr>\n",
       "      <th>483</th>\n",
       "      <td>220</td>\n",
       "      <td>144.0</td>\n",
       "      <td>2535.887591</td>\n",
       "      <td>2009</td>\n",
       "      <td>16.642943</td>\n",
       "    </tr>\n",
       "    <tr>\n",
       "      <th>7506</th>\n",
       "      <td>160</td>\n",
       "      <td>141.0</td>\n",
       "      <td>2741.170484</td>\n",
       "      <td>2019</td>\n",
       "      <td>16.298377</td>\n",
       "    </tr>\n",
       "    <tr>\n",
       "      <th>8795</th>\n",
       "      <td>230</td>\n",
       "      <td>155.0</td>\n",
       "      <td>2471.880237</td>\n",
       "      <td>2017</td>\n",
       "      <td>18.591822</td>\n",
       "    </tr>\n",
       "    <tr>\n",
       "      <th>1688</th>\n",
       "      <td>150</td>\n",
       "      <td>206.0</td>\n",
       "      <td>3748.164469</td>\n",
       "      <td>2015</td>\n",
       "      <td>11.818843</td>\n",
       "    </tr>\n",
       "  </tbody>\n",
       "</table>\n",
       "</div>"
      ],
      "text/plain": [
       "      engine_displacement  horsepower  vehicle_weight  model_year  \\\n",
       "483                   220       144.0     2535.887591        2009   \n",
       "7506                  160       141.0     2741.170484        2019   \n",
       "8795                  230       155.0     2471.880237        2017   \n",
       "1688                  150       206.0     3748.164469        2015   \n",
       "\n",
       "      fuel_efficiency_mpg  \n",
       "483             16.642943  \n",
       "7506            16.298377  \n",
       "8795            18.591822  \n",
       "1688            11.818843  "
      ]
     },
     "execution_count": 15,
     "metadata": {},
     "output_type": "execute_result"
    }
   ],
   "source": [
    "n = len(df)\n",
    "n_val = int(n * 0.2)\n",
    "n_test = int(n * 0.2)\n",
    "n_train = n - n_val - n_test\n",
    "\n",
    "idx = np.arange(n) \n",
    "np.random.shuffle(idx) \n",
    "df_shuffled = df.iloc[idx]\n",
    "df_shuffled.head(n=4)"
   ]
  },
  {
   "cell_type": "code",
   "execution_count": 16,
   "id": "5bc0b523-f5c8-4167-ad6e-841798b5d1fe",
   "metadata": {},
   "outputs": [],
   "source": [
    "df_val = df_shuffled.iloc[:n_val].copy()\n",
    "df_test = df_shuffled.iloc[n_val:n_test+n_val].copy()\n",
    "df_train = df_shuffled.iloc[n_test+n_val:].copy()"
   ]
  },
  {
   "cell_type": "code",
   "execution_count": 17,
   "id": "d3180419-bc25-468d-b2ec-27411faef3d5",
   "metadata": {},
   "outputs": [],
   "source": [
    "y_val = df_val.fuel_efficiency_mpg.values\n",
    "y_test = df_test.fuel_efficiency_mpg.values\n",
    "y_train = df_train.fuel_efficiency_mpg.values"
   ]
  },
  {
   "cell_type": "code",
   "execution_count": 18,
   "id": "388c431a-d78b-436b-be0d-08adeae8748b",
   "metadata": {},
   "outputs": [],
   "source": [
    "del df_val['fuel_efficiency_mpg']\n",
    "del df_test['fuel_efficiency_mpg']\n",
    "del df_train['fuel_efficiency_mpg']"
   ]
  },
  {
   "cell_type": "markdown",
   "id": "86d719ef-8c2a-4206-a8ba-da16896b04ca",
   "metadata": {},
   "source": [
    "#### Question 3"
   ]
  },
  {
   "cell_type": "code",
   "execution_count": 19,
   "id": "6cd0e46a-f493-456e-be23-e6daee754731",
   "metadata": {},
   "outputs": [],
   "source": [
    "def prepare_X(df,na_value):\n",
    "    df = df.fillna(na_value)\n",
    "    df = df.values\n",
    "    return df"
   ]
  },
  {
   "cell_type": "code",
   "execution_count": 20,
   "id": "b589f7fc-1043-4f5b-8242-1a7a1c14fd68",
   "metadata": {},
   "outputs": [],
   "source": [
    "def linear_regression(X,y):\n",
    "    ones = np.ones(X.shape[0])\n",
    "    X = np.column_stack([ones,X])\n",
    "    XTX = X.T.dot(X) \n",
    "    XTX_inv = np.linalg.inv(XTX) \n",
    "    \n",
    "    w = XTX_inv.dot(X.T).dot(y) \n",
    "    w0, w = w[0], w[1:]\n",
    "    return w0, w\n",
    "\n",
    "def rmse(y,y_pred):\n",
    "    error = y_pred - y \n",
    "    mse = (error ** 2).mean()\n",
    "    return float(np.sqrt(mse))"
   ]
  },
  {
   "cell_type": "markdown",
   "id": "78fff353-8b3f-4838-8480-184ba7fe3832",
   "metadata": {},
   "source": [
    "##### Fill in missing value of horsepower with 0"
   ]
  },
  {
   "cell_type": "code",
   "execution_count": 21,
   "id": "d95b03a6-5c14-4eda-94cc-b8140aef9952",
   "metadata": {},
   "outputs": [],
   "source": [
    "X_train_0 = prepare_X(df_train,0)\n",
    "X_val_0 = prepare_X(df_val,0)"
   ]
  },
  {
   "cell_type": "code",
   "execution_count": 22,
   "id": "2a7cda26-c4ff-422e-a843-446dce993a96",
   "metadata": {},
   "outputs": [
    {
     "data": {
      "text/plain": [
       "0.52"
      ]
     },
     "execution_count": 22,
     "metadata": {},
     "output_type": "execute_result"
    }
   ],
   "source": [
    "w0, w = linear_regression(X_train_0,y_train)\n",
    "y_pred_train_0 = w0 + X_train_0.dot(w)\n",
    "rmse_train_0 = rmse(y_train,y_pred_train_0)\n",
    "round(rmse_train_0,2)"
   ]
  },
  {
   "cell_type": "code",
   "execution_count": 23,
   "id": "b33ebee0-ae3a-4daf-9f84-00e3cbec8b5d",
   "metadata": {},
   "outputs": [
    {
     "data": {
      "text/plain": [
       "0.53"
      ]
     },
     "execution_count": 23,
     "metadata": {},
     "output_type": "execute_result"
    }
   ],
   "source": [
    "w0, w = linear_regression(X_val_0, y_val)\n",
    "y_pred_val_0 = w0 + X_val_0.dot(w)\n",
    "rmse_val_0 = rmse(y_val,y_pred_val_0)\n",
    "round(rmse_val_0,2)"
   ]
  },
  {
   "cell_type": "markdown",
   "id": "d8a1338f-ebe6-4136-96fc-27182a477c0b",
   "metadata": {},
   "source": [
    "##### Fill in missing value of horsepower with mean of horsepower from df_train"
   ]
  },
  {
   "cell_type": "code",
   "execution_count": 24,
   "id": "d0b40f30-2651-42a3-ad02-cb1fe0c2c956",
   "metadata": {},
   "outputs": [],
   "source": [
    "hp_mean = df_train.horsepower.mean().round(2)"
   ]
  },
  {
   "cell_type": "code",
   "execution_count": 25,
   "id": "5fdc36f9-bbda-4a80-b40e-c8a4a8544eba",
   "metadata": {},
   "outputs": [],
   "source": [
    "X_train_hp_mean = prepare_X(df_train,hp_mean)\n",
    "X_val_hp_mean =  prepare_X(df_val,hp_mean)"
   ]
  },
  {
   "cell_type": "code",
   "execution_count": 26,
   "id": "57981b0d-b57a-4613-a74e-252a56073829",
   "metadata": {},
   "outputs": [
    {
     "data": {
      "text/plain": [
       "0.46"
      ]
     },
     "execution_count": 26,
     "metadata": {},
     "output_type": "execute_result"
    }
   ],
   "source": [
    "w0, w = linear_regression(X_train_hp_mean,y_train)\n",
    "y_pred_train_hp_mean = w0 + X_train_hp_mean.dot(w)\n",
    "rmse_train_hp_mean = rmse(y_train,y_pred_train_hp_mean)\n",
    "round(rmse_train_hp_mean,2)"
   ]
  },
  {
   "cell_type": "code",
   "execution_count": 27,
   "id": "1dded8fd-4152-4c7e-8dc6-25942d1183e7",
   "metadata": {},
   "outputs": [
    {
     "data": {
      "text/plain": [
       "0.47"
      ]
     },
     "execution_count": 27,
     "metadata": {},
     "output_type": "execute_result"
    }
   ],
   "source": [
    "w0, w = linear_regression(X_val_hp_mean, y_val)\n",
    "y_pred_val_hp_mean = w0 + X_val_hp_mean.dot(w)\n",
    "rmse_val_hp_mean = rmse(y_val,y_pred_val_hp_mean)\n",
    "round(rmse_val_hp_mean,2)"
   ]
  },
  {
   "cell_type": "markdown",
   "id": "134aa301-673d-40c2-9a0e-f5b2dc355b60",
   "metadata": {},
   "source": [
    "#### Question 4"
   ]
  },
  {
   "cell_type": "code",
   "execution_count": 28,
   "id": "25cc5792-41b2-4297-8f60-ead02d3c535e",
   "metadata": {},
   "outputs": [],
   "source": [
    "def linear_regression_reg(X,y,r=0.0):\n",
    "    ones = np.ones(X.shape[0])\n",
    "    X = np.column_stack([ones,X])\n",
    "    \n",
    "    XTX = X.T.dot(X)\n",
    "    reg = r * np.eye(XTX.shape[0])\n",
    "    XTX = XTX + reg \n",
    "    \n",
    "    XTX_inv = np.linalg.inv(XTX) \n",
    "    \n",
    "    w = XTX_inv.dot(X.T).dot(y) \n",
    "    w0, w = w[0], w[1:]\n",
    "    return w0, w"
   ]
  },
  {
   "cell_type": "code",
   "execution_count": 29,
   "id": "5a0fb498-0a50-4511-9fce-94901413a649",
   "metadata": {},
   "outputs": [
    {
     "name": "stdout",
     "output_type": "stream",
     "text": [
      "    0, 26.90, 0.00, -0.01\n",
      " 0.01, 23.24, 0.00, -0.01\n",
      "  0.1, 10.45, 0.00, -0.01\n",
      "    1, 1.61, 0.00, -0.01\n",
      "    5, 0.34, 0.00, -0.01\n",
      "   10, 0.17, 0.00, -0.01\n",
      "  100, 0.02, 0.00, -0.01\n"
     ]
    }
   ],
   "source": [
    "for r in [0, 0.01, 0.1, 1, 5, 10,100]:\n",
    "    w_0, w = linear_regression_reg(X_train_0, y_train, r=r)\n",
    "    print('%5s, %.2f, %.2f, %.2f' % (r, w_0, w[1], w[2]))"
   ]
  },
  {
   "cell_type": "code",
   "execution_count": 30,
   "id": "cefadb32-6a52-4a64-bd4d-5a7c838d294a",
   "metadata": {},
   "outputs": [
    {
     "data": {
      "text/plain": [
       "0.52"
      ]
     },
     "execution_count": 30,
     "metadata": {},
     "output_type": "execute_result"
    }
   ],
   "source": [
    "w0, w = linear_regression_reg(X_train_0,y_train,r=0)\n",
    "y_pred_train_0 = w0 + X_train_0.dot(w)\n",
    "rmse_train_0 = rmse(y_train,y_pred_train_0)\n",
    "round(rmse_train_0,2)"
   ]
  },
  {
   "cell_type": "code",
   "execution_count": 31,
   "id": "408af305-2b1e-4a14-ac95-c7681c81248d",
   "metadata": {},
   "outputs": [
    {
     "data": {
      "text/plain": [
       "0.53"
      ]
     },
     "execution_count": 31,
     "metadata": {},
     "output_type": "execute_result"
    }
   ],
   "source": [
    "w0, w = linear_regression_reg(X_val_0, y_val,r=0)\n",
    "y_pred_val_0 = w0 + X_val_0.dot(w)\n",
    "rmse_val_0 = rmse(y_val,y_pred_val_0)\n",
    "round(rmse_val_0,2)"
   ]
  },
  {
   "cell_type": "markdown",
   "id": "eddf1ea3-053c-495c-9f33-1dd23484c1c1",
   "metadata": {},
   "source": [
    "#### Question 5"
   ]
  },
  {
   "cell_type": "code",
   "execution_count": 46,
   "id": "388e280f-d5ed-4732-a926-c69cbc56c602",
   "metadata": {},
   "outputs": [
    {
     "name": "stdout",
     "output_type": "stream",
     "text": [
      "Std of rmse validation is : 0.008\n",
      "Std of rmse train is : 0.003\n"
     ]
    }
   ],
   "source": [
    "seed_ = [0,1,2,3,4,5,6,7,8,9]\n",
    "rmse_val = []\n",
    "rmse_train = []\n",
    "\n",
    "for i in seed_:\n",
    "    np.random.seed(i)\n",
    "    n = len(df)\n",
    "    n_val = int(n * 0.2)\n",
    "    n_test = int(n * 0.2)\n",
    "    n_train = n - n_val - n_test\n",
    "    \n",
    "    idx = np.arange(n) \n",
    "    np.random.shuffle(idx) \n",
    "    df_shuffled = df.iloc[idx]\n",
    "\n",
    "    df_val = df_shuffled.iloc[:n_val].copy()\n",
    "    df_test = df_shuffled.iloc[n_val:n_test+n_val].copy()\n",
    "    df_train = df_shuffled.iloc[n_test+n_val:].copy()\n",
    "\n",
    "    y_val = df_val.fuel_efficiency_mpg.values\n",
    "    y_test = df_test.fuel_efficiency_mpg.values\n",
    "    y_train = df_train.fuel_efficiency_mpg.values\n",
    "    \n",
    "    del df_val['fuel_efficiency_mpg']\n",
    "    del df_test['fuel_efficiency_mpg']\n",
    "    del df_train['fuel_efficiency_mpg']\n",
    "\n",
    "    X_train_0 = prepare_X(df_train,0)\n",
    "    X_val_0 = prepare_X(df_val,0)\n",
    "\n",
    "    w0, w = linear_regression(X_train_0,y_train)\n",
    "    y_pred_train_0 = w0 + X_train_0.dot(w)\n",
    "    rmse_train_0 = rmse(y_train,y_pred_train_0)\n",
    "    \n",
    "    rmse_train.append(rmse_train_0)\n",
    "    \n",
    "    w0, w = linear_regression(X_val_0, y_val)\n",
    "    y_pred_val_0 = w0 + X_val_0.dot(w)\n",
    "    rmse_val_0 = rmse(y_val,y_pred_val_0)\n",
    "    \n",
    "    \n",
    "    rmse_val.append(rmse_val_0)\n",
    "\n",
    "print(\"Std of rmse validation is : \" +str(round(np.std(rmse_val),3)))\n",
    "print(\"Std of rmse train is : \" +str(round(np.std(rmse_train),3)))\n",
    " "
   ]
  },
  {
   "cell_type": "markdown",
   "id": "de2bc4ff-92a0-402d-8b81-4c2d8d9224a6",
   "metadata": {},
   "source": [
    "#### Question 6"
   ]
  },
  {
   "cell_type": "code",
   "execution_count": 52,
   "id": "32692eb8-63c7-4a99-89d7-aa21b3dce2b7",
   "metadata": {},
   "outputs": [
    {
     "name": "stdout",
     "output_type": "stream",
     "text": [
      "rmse_train_val_0 : 0.519\n",
      "rmse_test_0 : 0.519\n"
     ]
    }
   ],
   "source": [
    "np.random.seed(9)\n",
    "n = len(df)\n",
    "n_val = int(n * 0.2)\n",
    "n_test = int(n * 0.2)\n",
    "n_train = n - n_val - n_test\n",
    "\n",
    "idx = np.arange(n) \n",
    "np.random.shuffle(idx) \n",
    "df_shuffled = df.iloc[idx]\n",
    "\n",
    "df_val = df_shuffled.iloc[:n_val].copy()\n",
    "df_test = df_shuffled.iloc[n_val:n_test+n_val].copy()\n",
    "df_train = df_shuffled.iloc[n_test+n_val:].copy()\n",
    "df_train_val = pd.concat([df_train,df_val])\n",
    "\n",
    "y_train_val = df_train_val.fuel_efficiency_mpg.values\n",
    "y_test = df_test.fuel_efficiency_mpg.values\n",
    "\n",
    "del df_val['fuel_efficiency_mpg']\n",
    "del df_test['fuel_efficiency_mpg']\n",
    "del df_train_val['fuel_efficiency_mpg']\n",
    "del df_train['fuel_efficiency_mpg']\n",
    "\n",
    "X_train_val_0 = prepare_X(df_train_val,0)\n",
    "X_test_0 = prepare_X(df_test,0)\n",
    "\n",
    "w0, w = linear_regression_reg(X_train_val_0,y_train_val,0.001)\n",
    "y_pred_train_val_0 = w0 + X_train_val_0.dot(w)\n",
    "rmse_train_val_0 = rmse(y_train_val,y_pred_train_val_0)\n",
    "print(\"rmse_train_val_0 : \" + str(round(rmse_train_val_0,3)))\n",
    "\n",
    "\n",
    "w0, w = linear_regression_reg(X_test_0, y_test,0.001)\n",
    "y_pred_test_0 = w0 + X_test_0.dot(w)\n",
    "rmse_test_0 = rmse(y_test,y_pred_test_0)\n",
    "print(\"rmse_test_0 : \" + str(round(rmse_test_0,3)))\n"
   ]
  }
 ],
 "metadata": {
  "kernelspec": {
   "display_name": "Python 3 (ipykernel)",
   "language": "python",
   "name": "python3"
  },
  "language_info": {
   "codemirror_mode": {
    "name": "ipython",
    "version": 3
   },
   "file_extension": ".py",
   "mimetype": "text/x-python",
   "name": "python",
   "nbconvert_exporter": "python",
   "pygments_lexer": "ipython3",
   "version": "3.13.5"
  }
 },
 "nbformat": 4,
 "nbformat_minor": 5
}
